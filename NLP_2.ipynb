{
  "nbformat": 4,
  "nbformat_minor": 0,
  "metadata": {
    "colab": {
      "provenance": [],
      "toc_visible": true
    },
    "kernelspec": {
      "name": "python3",
      "display_name": "Python 3"
    },
    "language_info": {
      "name": "python"
    },
    "widgets": {
      "application/vnd.jupyter.widget-state+json": {
        "9701047922a64cf2bcbeb2650b9fecb7": {
          "model_module": "@jupyter-widgets/controls",
          "model_name": "HBoxModel",
          "model_module_version": "1.5.0",
          "state": {
            "_dom_classes": [],
            "_model_module": "@jupyter-widgets/controls",
            "_model_module_version": "1.5.0",
            "_model_name": "HBoxModel",
            "_view_count": null,
            "_view_module": "@jupyter-widgets/controls",
            "_view_module_version": "1.5.0",
            "_view_name": "HBoxView",
            "box_style": "",
            "children": [
              "IPY_MODEL_569644f05c9e424ca0ab8b5227a2b229",
              "IPY_MODEL_183ab45b3e37448993a0ce217dee89fa",
              "IPY_MODEL_0a08e7af0d79486588ca0bd3eb407ea4"
            ],
            "layout": "IPY_MODEL_1bbaa8c6151649a2a687e74213fffd66"
          }
        },
        "569644f05c9e424ca0ab8b5227a2b229": {
          "model_module": "@jupyter-widgets/controls",
          "model_name": "HTMLModel",
          "model_module_version": "1.5.0",
          "state": {
            "_dom_classes": [],
            "_model_module": "@jupyter-widgets/controls",
            "_model_module_version": "1.5.0",
            "_model_name": "HTMLModel",
            "_view_count": null,
            "_view_module": "@jupyter-widgets/controls",
            "_view_module_version": "1.5.0",
            "_view_name": "HTMLView",
            "description": "",
            "description_tooltip": null,
            "layout": "IPY_MODEL_ec6765817cae4d0b847b4e99425f7733",
            "placeholder": "​",
            "style": "IPY_MODEL_411a692ac0a14b7aa3c9929e05aa5955",
            "value": "config.json: 100%"
          }
        },
        "183ab45b3e37448993a0ce217dee89fa": {
          "model_module": "@jupyter-widgets/controls",
          "model_name": "FloatProgressModel",
          "model_module_version": "1.5.0",
          "state": {
            "_dom_classes": [],
            "_model_module": "@jupyter-widgets/controls",
            "_model_module_version": "1.5.0",
            "_model_name": "FloatProgressModel",
            "_view_count": null,
            "_view_module": "@jupyter-widgets/controls",
            "_view_module_version": "1.5.0",
            "_view_name": "ProgressView",
            "bar_style": "success",
            "description": "",
            "description_tooltip": null,
            "layout": "IPY_MODEL_f85f0e21493543c798caf43605598d0a",
            "max": 629,
            "min": 0,
            "orientation": "horizontal",
            "style": "IPY_MODEL_177629ed83ae4e5ba018ca4048bd9dc3",
            "value": 629
          }
        },
        "0a08e7af0d79486588ca0bd3eb407ea4": {
          "model_module": "@jupyter-widgets/controls",
          "model_name": "HTMLModel",
          "model_module_version": "1.5.0",
          "state": {
            "_dom_classes": [],
            "_model_module": "@jupyter-widgets/controls",
            "_model_module_version": "1.5.0",
            "_model_name": "HTMLModel",
            "_view_count": null,
            "_view_module": "@jupyter-widgets/controls",
            "_view_module_version": "1.5.0",
            "_view_name": "HTMLView",
            "description": "",
            "description_tooltip": null,
            "layout": "IPY_MODEL_523593d9c274491fb5a1d63a59e58ef5",
            "placeholder": "​",
            "style": "IPY_MODEL_39cc72bd18dd443a80370c8b457596ce",
            "value": " 629/629 [00:00&lt;00:00, 47.0kB/s]"
          }
        },
        "1bbaa8c6151649a2a687e74213fffd66": {
          "model_module": "@jupyter-widgets/base",
          "model_name": "LayoutModel",
          "model_module_version": "1.2.0",
          "state": {
            "_model_module": "@jupyter-widgets/base",
            "_model_module_version": "1.2.0",
            "_model_name": "LayoutModel",
            "_view_count": null,
            "_view_module": "@jupyter-widgets/base",
            "_view_module_version": "1.2.0",
            "_view_name": "LayoutView",
            "align_content": null,
            "align_items": null,
            "align_self": null,
            "border": null,
            "bottom": null,
            "display": null,
            "flex": null,
            "flex_flow": null,
            "grid_area": null,
            "grid_auto_columns": null,
            "grid_auto_flow": null,
            "grid_auto_rows": null,
            "grid_column": null,
            "grid_gap": null,
            "grid_row": null,
            "grid_template_areas": null,
            "grid_template_columns": null,
            "grid_template_rows": null,
            "height": null,
            "justify_content": null,
            "justify_items": null,
            "left": null,
            "margin": null,
            "max_height": null,
            "max_width": null,
            "min_height": null,
            "min_width": null,
            "object_fit": null,
            "object_position": null,
            "order": null,
            "overflow": null,
            "overflow_x": null,
            "overflow_y": null,
            "padding": null,
            "right": null,
            "top": null,
            "visibility": null,
            "width": null
          }
        },
        "ec6765817cae4d0b847b4e99425f7733": {
          "model_module": "@jupyter-widgets/base",
          "model_name": "LayoutModel",
          "model_module_version": "1.2.0",
          "state": {
            "_model_module": "@jupyter-widgets/base",
            "_model_module_version": "1.2.0",
            "_model_name": "LayoutModel",
            "_view_count": null,
            "_view_module": "@jupyter-widgets/base",
            "_view_module_version": "1.2.0",
            "_view_name": "LayoutView",
            "align_content": null,
            "align_items": null,
            "align_self": null,
            "border": null,
            "bottom": null,
            "display": null,
            "flex": null,
            "flex_flow": null,
            "grid_area": null,
            "grid_auto_columns": null,
            "grid_auto_flow": null,
            "grid_auto_rows": null,
            "grid_column": null,
            "grid_gap": null,
            "grid_row": null,
            "grid_template_areas": null,
            "grid_template_columns": null,
            "grid_template_rows": null,
            "height": null,
            "justify_content": null,
            "justify_items": null,
            "left": null,
            "margin": null,
            "max_height": null,
            "max_width": null,
            "min_height": null,
            "min_width": null,
            "object_fit": null,
            "object_position": null,
            "order": null,
            "overflow": null,
            "overflow_x": null,
            "overflow_y": null,
            "padding": null,
            "right": null,
            "top": null,
            "visibility": null,
            "width": null
          }
        },
        "411a692ac0a14b7aa3c9929e05aa5955": {
          "model_module": "@jupyter-widgets/controls",
          "model_name": "DescriptionStyleModel",
          "model_module_version": "1.5.0",
          "state": {
            "_model_module": "@jupyter-widgets/controls",
            "_model_module_version": "1.5.0",
            "_model_name": "DescriptionStyleModel",
            "_view_count": null,
            "_view_module": "@jupyter-widgets/base",
            "_view_module_version": "1.2.0",
            "_view_name": "StyleView",
            "description_width": ""
          }
        },
        "f85f0e21493543c798caf43605598d0a": {
          "model_module": "@jupyter-widgets/base",
          "model_name": "LayoutModel",
          "model_module_version": "1.2.0",
          "state": {
            "_model_module": "@jupyter-widgets/base",
            "_model_module_version": "1.2.0",
            "_model_name": "LayoutModel",
            "_view_count": null,
            "_view_module": "@jupyter-widgets/base",
            "_view_module_version": "1.2.0",
            "_view_name": "LayoutView",
            "align_content": null,
            "align_items": null,
            "align_self": null,
            "border": null,
            "bottom": null,
            "display": null,
            "flex": null,
            "flex_flow": null,
            "grid_area": null,
            "grid_auto_columns": null,
            "grid_auto_flow": null,
            "grid_auto_rows": null,
            "grid_column": null,
            "grid_gap": null,
            "grid_row": null,
            "grid_template_areas": null,
            "grid_template_columns": null,
            "grid_template_rows": null,
            "height": null,
            "justify_content": null,
            "justify_items": null,
            "left": null,
            "margin": null,
            "max_height": null,
            "max_width": null,
            "min_height": null,
            "min_width": null,
            "object_fit": null,
            "object_position": null,
            "order": null,
            "overflow": null,
            "overflow_x": null,
            "overflow_y": null,
            "padding": null,
            "right": null,
            "top": null,
            "visibility": null,
            "width": null
          }
        },
        "177629ed83ae4e5ba018ca4048bd9dc3": {
          "model_module": "@jupyter-widgets/controls",
          "model_name": "ProgressStyleModel",
          "model_module_version": "1.5.0",
          "state": {
            "_model_module": "@jupyter-widgets/controls",
            "_model_module_version": "1.5.0",
            "_model_name": "ProgressStyleModel",
            "_view_count": null,
            "_view_module": "@jupyter-widgets/base",
            "_view_module_version": "1.2.0",
            "_view_name": "StyleView",
            "bar_color": null,
            "description_width": ""
          }
        },
        "523593d9c274491fb5a1d63a59e58ef5": {
          "model_module": "@jupyter-widgets/base",
          "model_name": "LayoutModel",
          "model_module_version": "1.2.0",
          "state": {
            "_model_module": "@jupyter-widgets/base",
            "_model_module_version": "1.2.0",
            "_model_name": "LayoutModel",
            "_view_count": null,
            "_view_module": "@jupyter-widgets/base",
            "_view_module_version": "1.2.0",
            "_view_name": "LayoutView",
            "align_content": null,
            "align_items": null,
            "align_self": null,
            "border": null,
            "bottom": null,
            "display": null,
            "flex": null,
            "flex_flow": null,
            "grid_area": null,
            "grid_auto_columns": null,
            "grid_auto_flow": null,
            "grid_auto_rows": null,
            "grid_column": null,
            "grid_gap": null,
            "grid_row": null,
            "grid_template_areas": null,
            "grid_template_columns": null,
            "grid_template_rows": null,
            "height": null,
            "justify_content": null,
            "justify_items": null,
            "left": null,
            "margin": null,
            "max_height": null,
            "max_width": null,
            "min_height": null,
            "min_width": null,
            "object_fit": null,
            "object_position": null,
            "order": null,
            "overflow": null,
            "overflow_x": null,
            "overflow_y": null,
            "padding": null,
            "right": null,
            "top": null,
            "visibility": null,
            "width": null
          }
        },
        "39cc72bd18dd443a80370c8b457596ce": {
          "model_module": "@jupyter-widgets/controls",
          "model_name": "DescriptionStyleModel",
          "model_module_version": "1.5.0",
          "state": {
            "_model_module": "@jupyter-widgets/controls",
            "_model_module_version": "1.5.0",
            "_model_name": "DescriptionStyleModel",
            "_view_count": null,
            "_view_module": "@jupyter-widgets/base",
            "_view_module_version": "1.2.0",
            "_view_name": "StyleView",
            "description_width": ""
          }
        },
        "6fd914a9ee37484a8541db888127d89d": {
          "model_module": "@jupyter-widgets/controls",
          "model_name": "HBoxModel",
          "model_module_version": "1.5.0",
          "state": {
            "_dom_classes": [],
            "_model_module": "@jupyter-widgets/controls",
            "_model_module_version": "1.5.0",
            "_model_name": "HBoxModel",
            "_view_count": null,
            "_view_module": "@jupyter-widgets/controls",
            "_view_module_version": "1.5.0",
            "_view_name": "HBoxView",
            "box_style": "",
            "children": [
              "IPY_MODEL_6236404d92a7473290ae06979f9d7369",
              "IPY_MODEL_1c9c80d983404e978cd1e5eb54bc037b",
              "IPY_MODEL_e56f074cd20042369a6c7b0ed33a1037"
            ],
            "layout": "IPY_MODEL_b0345aeeca0b46c0aad919119d858bcb"
          }
        },
        "6236404d92a7473290ae06979f9d7369": {
          "model_module": "@jupyter-widgets/controls",
          "model_name": "HTMLModel",
          "model_module_version": "1.5.0",
          "state": {
            "_dom_classes": [],
            "_model_module": "@jupyter-widgets/controls",
            "_model_module_version": "1.5.0",
            "_model_name": "HTMLModel",
            "_view_count": null,
            "_view_module": "@jupyter-widgets/controls",
            "_view_module_version": "1.5.0",
            "_view_name": "HTMLView",
            "description": "",
            "description_tooltip": null,
            "layout": "IPY_MODEL_adcd774f6d494c968257450962bd7053",
            "placeholder": "​",
            "style": "IPY_MODEL_7b42099af0624451b4adabeb97292d0d",
            "value": "model.safetensors: 100%"
          }
        },
        "1c9c80d983404e978cd1e5eb54bc037b": {
          "model_module": "@jupyter-widgets/controls",
          "model_name": "FloatProgressModel",
          "model_module_version": "1.5.0",
          "state": {
            "_dom_classes": [],
            "_model_module": "@jupyter-widgets/controls",
            "_model_module_version": "1.5.0",
            "_model_name": "FloatProgressModel",
            "_view_count": null,
            "_view_module": "@jupyter-widgets/controls",
            "_view_module_version": "1.5.0",
            "_view_name": "ProgressView",
            "bar_style": "success",
            "description": "",
            "description_tooltip": null,
            "layout": "IPY_MODEL_1d3cc13aab4d4a41b3e312b39f7d32f9",
            "max": 267832558,
            "min": 0,
            "orientation": "horizontal",
            "style": "IPY_MODEL_38ad3ab6885b42ea853eacaf4df9ef3d",
            "value": 267832558
          }
        },
        "e56f074cd20042369a6c7b0ed33a1037": {
          "model_module": "@jupyter-widgets/controls",
          "model_name": "HTMLModel",
          "model_module_version": "1.5.0",
          "state": {
            "_dom_classes": [],
            "_model_module": "@jupyter-widgets/controls",
            "_model_module_version": "1.5.0",
            "_model_name": "HTMLModel",
            "_view_count": null,
            "_view_module": "@jupyter-widgets/controls",
            "_view_module_version": "1.5.0",
            "_view_name": "HTMLView",
            "description": "",
            "description_tooltip": null,
            "layout": "IPY_MODEL_5eedca7581e64497a6a00f501535afdd",
            "placeholder": "​",
            "style": "IPY_MODEL_9d0453eb09bc47fdb2623b739e096589",
            "value": " 268M/268M [00:04&lt;00:00, 26.3MB/s]"
          }
        },
        "b0345aeeca0b46c0aad919119d858bcb": {
          "model_module": "@jupyter-widgets/base",
          "model_name": "LayoutModel",
          "model_module_version": "1.2.0",
          "state": {
            "_model_module": "@jupyter-widgets/base",
            "_model_module_version": "1.2.0",
            "_model_name": "LayoutModel",
            "_view_count": null,
            "_view_module": "@jupyter-widgets/base",
            "_view_module_version": "1.2.0",
            "_view_name": "LayoutView",
            "align_content": null,
            "align_items": null,
            "align_self": null,
            "border": null,
            "bottom": null,
            "display": null,
            "flex": null,
            "flex_flow": null,
            "grid_area": null,
            "grid_auto_columns": null,
            "grid_auto_flow": null,
            "grid_auto_rows": null,
            "grid_column": null,
            "grid_gap": null,
            "grid_row": null,
            "grid_template_areas": null,
            "grid_template_columns": null,
            "grid_template_rows": null,
            "height": null,
            "justify_content": null,
            "justify_items": null,
            "left": null,
            "margin": null,
            "max_height": null,
            "max_width": null,
            "min_height": null,
            "min_width": null,
            "object_fit": null,
            "object_position": null,
            "order": null,
            "overflow": null,
            "overflow_x": null,
            "overflow_y": null,
            "padding": null,
            "right": null,
            "top": null,
            "visibility": null,
            "width": null
          }
        },
        "adcd774f6d494c968257450962bd7053": {
          "model_module": "@jupyter-widgets/base",
          "model_name": "LayoutModel",
          "model_module_version": "1.2.0",
          "state": {
            "_model_module": "@jupyter-widgets/base",
            "_model_module_version": "1.2.0",
            "_model_name": "LayoutModel",
            "_view_count": null,
            "_view_module": "@jupyter-widgets/base",
            "_view_module_version": "1.2.0",
            "_view_name": "LayoutView",
            "align_content": null,
            "align_items": null,
            "align_self": null,
            "border": null,
            "bottom": null,
            "display": null,
            "flex": null,
            "flex_flow": null,
            "grid_area": null,
            "grid_auto_columns": null,
            "grid_auto_flow": null,
            "grid_auto_rows": null,
            "grid_column": null,
            "grid_gap": null,
            "grid_row": null,
            "grid_template_areas": null,
            "grid_template_columns": null,
            "grid_template_rows": null,
            "height": null,
            "justify_content": null,
            "justify_items": null,
            "left": null,
            "margin": null,
            "max_height": null,
            "max_width": null,
            "min_height": null,
            "min_width": null,
            "object_fit": null,
            "object_position": null,
            "order": null,
            "overflow": null,
            "overflow_x": null,
            "overflow_y": null,
            "padding": null,
            "right": null,
            "top": null,
            "visibility": null,
            "width": null
          }
        },
        "7b42099af0624451b4adabeb97292d0d": {
          "model_module": "@jupyter-widgets/controls",
          "model_name": "DescriptionStyleModel",
          "model_module_version": "1.5.0",
          "state": {
            "_model_module": "@jupyter-widgets/controls",
            "_model_module_version": "1.5.0",
            "_model_name": "DescriptionStyleModel",
            "_view_count": null,
            "_view_module": "@jupyter-widgets/base",
            "_view_module_version": "1.2.0",
            "_view_name": "StyleView",
            "description_width": ""
          }
        },
        "1d3cc13aab4d4a41b3e312b39f7d32f9": {
          "model_module": "@jupyter-widgets/base",
          "model_name": "LayoutModel",
          "model_module_version": "1.2.0",
          "state": {
            "_model_module": "@jupyter-widgets/base",
            "_model_module_version": "1.2.0",
            "_model_name": "LayoutModel",
            "_view_count": null,
            "_view_module": "@jupyter-widgets/base",
            "_view_module_version": "1.2.0",
            "_view_name": "LayoutView",
            "align_content": null,
            "align_items": null,
            "align_self": null,
            "border": null,
            "bottom": null,
            "display": null,
            "flex": null,
            "flex_flow": null,
            "grid_area": null,
            "grid_auto_columns": null,
            "grid_auto_flow": null,
            "grid_auto_rows": null,
            "grid_column": null,
            "grid_gap": null,
            "grid_row": null,
            "grid_template_areas": null,
            "grid_template_columns": null,
            "grid_template_rows": null,
            "height": null,
            "justify_content": null,
            "justify_items": null,
            "left": null,
            "margin": null,
            "max_height": null,
            "max_width": null,
            "min_height": null,
            "min_width": null,
            "object_fit": null,
            "object_position": null,
            "order": null,
            "overflow": null,
            "overflow_x": null,
            "overflow_y": null,
            "padding": null,
            "right": null,
            "top": null,
            "visibility": null,
            "width": null
          }
        },
        "38ad3ab6885b42ea853eacaf4df9ef3d": {
          "model_module": "@jupyter-widgets/controls",
          "model_name": "ProgressStyleModel",
          "model_module_version": "1.5.0",
          "state": {
            "_model_module": "@jupyter-widgets/controls",
            "_model_module_version": "1.5.0",
            "_model_name": "ProgressStyleModel",
            "_view_count": null,
            "_view_module": "@jupyter-widgets/base",
            "_view_module_version": "1.2.0",
            "_view_name": "StyleView",
            "bar_color": null,
            "description_width": ""
          }
        },
        "5eedca7581e64497a6a00f501535afdd": {
          "model_module": "@jupyter-widgets/base",
          "model_name": "LayoutModel",
          "model_module_version": "1.2.0",
          "state": {
            "_model_module": "@jupyter-widgets/base",
            "_model_module_version": "1.2.0",
            "_model_name": "LayoutModel",
            "_view_count": null,
            "_view_module": "@jupyter-widgets/base",
            "_view_module_version": "1.2.0",
            "_view_name": "LayoutView",
            "align_content": null,
            "align_items": null,
            "align_self": null,
            "border": null,
            "bottom": null,
            "display": null,
            "flex": null,
            "flex_flow": null,
            "grid_area": null,
            "grid_auto_columns": null,
            "grid_auto_flow": null,
            "grid_auto_rows": null,
            "grid_column": null,
            "grid_gap": null,
            "grid_row": null,
            "grid_template_areas": null,
            "grid_template_columns": null,
            "grid_template_rows": null,
            "height": null,
            "justify_content": null,
            "justify_items": null,
            "left": null,
            "margin": null,
            "max_height": null,
            "max_width": null,
            "min_height": null,
            "min_width": null,
            "object_fit": null,
            "object_position": null,
            "order": null,
            "overflow": null,
            "overflow_x": null,
            "overflow_y": null,
            "padding": null,
            "right": null,
            "top": null,
            "visibility": null,
            "width": null
          }
        },
        "9d0453eb09bc47fdb2623b739e096589": {
          "model_module": "@jupyter-widgets/controls",
          "model_name": "DescriptionStyleModel",
          "model_module_version": "1.5.0",
          "state": {
            "_model_module": "@jupyter-widgets/controls",
            "_model_module_version": "1.5.0",
            "_model_name": "DescriptionStyleModel",
            "_view_count": null,
            "_view_module": "@jupyter-widgets/base",
            "_view_module_version": "1.2.0",
            "_view_name": "StyleView",
            "description_width": ""
          }
        },
        "971ed02be4f64166ba15f87866895fc6": {
          "model_module": "@jupyter-widgets/controls",
          "model_name": "HBoxModel",
          "model_module_version": "1.5.0",
          "state": {
            "_dom_classes": [],
            "_model_module": "@jupyter-widgets/controls",
            "_model_module_version": "1.5.0",
            "_model_name": "HBoxModel",
            "_view_count": null,
            "_view_module": "@jupyter-widgets/controls",
            "_view_module_version": "1.5.0",
            "_view_name": "HBoxView",
            "box_style": "",
            "children": [
              "IPY_MODEL_a8df605ee3184d409560482f6b00a078",
              "IPY_MODEL_3b5faa3d9a0449e59ee64cf37fa9c0f6",
              "IPY_MODEL_210274084a81402589498082cf196d59"
            ],
            "layout": "IPY_MODEL_f3fe2e8be92c4ad6ba623effe232ad60"
          }
        },
        "a8df605ee3184d409560482f6b00a078": {
          "model_module": "@jupyter-widgets/controls",
          "model_name": "HTMLModel",
          "model_module_version": "1.5.0",
          "state": {
            "_dom_classes": [],
            "_model_module": "@jupyter-widgets/controls",
            "_model_module_version": "1.5.0",
            "_model_name": "HTMLModel",
            "_view_count": null,
            "_view_module": "@jupyter-widgets/controls",
            "_view_module_version": "1.5.0",
            "_view_name": "HTMLView",
            "description": "",
            "description_tooltip": null,
            "layout": "IPY_MODEL_66938e3d1851434091090b8b1806087a",
            "placeholder": "​",
            "style": "IPY_MODEL_3ed06aa9de4a47a2bd0c10ff2bfbf65c",
            "value": "tokenizer_config.json: 100%"
          }
        },
        "3b5faa3d9a0449e59ee64cf37fa9c0f6": {
          "model_module": "@jupyter-widgets/controls",
          "model_name": "FloatProgressModel",
          "model_module_version": "1.5.0",
          "state": {
            "_dom_classes": [],
            "_model_module": "@jupyter-widgets/controls",
            "_model_module_version": "1.5.0",
            "_model_name": "FloatProgressModel",
            "_view_count": null,
            "_view_module": "@jupyter-widgets/controls",
            "_view_module_version": "1.5.0",
            "_view_name": "ProgressView",
            "bar_style": "success",
            "description": "",
            "description_tooltip": null,
            "layout": "IPY_MODEL_e02e9820a2bf43199d8d904484f91f82",
            "max": 48,
            "min": 0,
            "orientation": "horizontal",
            "style": "IPY_MODEL_c6d4d7fc2af04e398049135ca847d8d3",
            "value": 48
          }
        },
        "210274084a81402589498082cf196d59": {
          "model_module": "@jupyter-widgets/controls",
          "model_name": "HTMLModel",
          "model_module_version": "1.5.0",
          "state": {
            "_dom_classes": [],
            "_model_module": "@jupyter-widgets/controls",
            "_model_module_version": "1.5.0",
            "_model_name": "HTMLModel",
            "_view_count": null,
            "_view_module": "@jupyter-widgets/controls",
            "_view_module_version": "1.5.0",
            "_view_name": "HTMLView",
            "description": "",
            "description_tooltip": null,
            "layout": "IPY_MODEL_b62639cde92f4e99a5e58521040568e9",
            "placeholder": "​",
            "style": "IPY_MODEL_e4b6b9b86c4c432eb65a36767bed2764",
            "value": " 48.0/48.0 [00:00&lt;00:00, 3.40kB/s]"
          }
        },
        "f3fe2e8be92c4ad6ba623effe232ad60": {
          "model_module": "@jupyter-widgets/base",
          "model_name": "LayoutModel",
          "model_module_version": "1.2.0",
          "state": {
            "_model_module": "@jupyter-widgets/base",
            "_model_module_version": "1.2.0",
            "_model_name": "LayoutModel",
            "_view_count": null,
            "_view_module": "@jupyter-widgets/base",
            "_view_module_version": "1.2.0",
            "_view_name": "LayoutView",
            "align_content": null,
            "align_items": null,
            "align_self": null,
            "border": null,
            "bottom": null,
            "display": null,
            "flex": null,
            "flex_flow": null,
            "grid_area": null,
            "grid_auto_columns": null,
            "grid_auto_flow": null,
            "grid_auto_rows": null,
            "grid_column": null,
            "grid_gap": null,
            "grid_row": null,
            "grid_template_areas": null,
            "grid_template_columns": null,
            "grid_template_rows": null,
            "height": null,
            "justify_content": null,
            "justify_items": null,
            "left": null,
            "margin": null,
            "max_height": null,
            "max_width": null,
            "min_height": null,
            "min_width": null,
            "object_fit": null,
            "object_position": null,
            "order": null,
            "overflow": null,
            "overflow_x": null,
            "overflow_y": null,
            "padding": null,
            "right": null,
            "top": null,
            "visibility": null,
            "width": null
          }
        },
        "66938e3d1851434091090b8b1806087a": {
          "model_module": "@jupyter-widgets/base",
          "model_name": "LayoutModel",
          "model_module_version": "1.2.0",
          "state": {
            "_model_module": "@jupyter-widgets/base",
            "_model_module_version": "1.2.0",
            "_model_name": "LayoutModel",
            "_view_count": null,
            "_view_module": "@jupyter-widgets/base",
            "_view_module_version": "1.2.0",
            "_view_name": "LayoutView",
            "align_content": null,
            "align_items": null,
            "align_self": null,
            "border": null,
            "bottom": null,
            "display": null,
            "flex": null,
            "flex_flow": null,
            "grid_area": null,
            "grid_auto_columns": null,
            "grid_auto_flow": null,
            "grid_auto_rows": null,
            "grid_column": null,
            "grid_gap": null,
            "grid_row": null,
            "grid_template_areas": null,
            "grid_template_columns": null,
            "grid_template_rows": null,
            "height": null,
            "justify_content": null,
            "justify_items": null,
            "left": null,
            "margin": null,
            "max_height": null,
            "max_width": null,
            "min_height": null,
            "min_width": null,
            "object_fit": null,
            "object_position": null,
            "order": null,
            "overflow": null,
            "overflow_x": null,
            "overflow_y": null,
            "padding": null,
            "right": null,
            "top": null,
            "visibility": null,
            "width": null
          }
        },
        "3ed06aa9de4a47a2bd0c10ff2bfbf65c": {
          "model_module": "@jupyter-widgets/controls",
          "model_name": "DescriptionStyleModel",
          "model_module_version": "1.5.0",
          "state": {
            "_model_module": "@jupyter-widgets/controls",
            "_model_module_version": "1.5.0",
            "_model_name": "DescriptionStyleModel",
            "_view_count": null,
            "_view_module": "@jupyter-widgets/base",
            "_view_module_version": "1.2.0",
            "_view_name": "StyleView",
            "description_width": ""
          }
        },
        "e02e9820a2bf43199d8d904484f91f82": {
          "model_module": "@jupyter-widgets/base",
          "model_name": "LayoutModel",
          "model_module_version": "1.2.0",
          "state": {
            "_model_module": "@jupyter-widgets/base",
            "_model_module_version": "1.2.0",
            "_model_name": "LayoutModel",
            "_view_count": null,
            "_view_module": "@jupyter-widgets/base",
            "_view_module_version": "1.2.0",
            "_view_name": "LayoutView",
            "align_content": null,
            "align_items": null,
            "align_self": null,
            "border": null,
            "bottom": null,
            "display": null,
            "flex": null,
            "flex_flow": null,
            "grid_area": null,
            "grid_auto_columns": null,
            "grid_auto_flow": null,
            "grid_auto_rows": null,
            "grid_column": null,
            "grid_gap": null,
            "grid_row": null,
            "grid_template_areas": null,
            "grid_template_columns": null,
            "grid_template_rows": null,
            "height": null,
            "justify_content": null,
            "justify_items": null,
            "left": null,
            "margin": null,
            "max_height": null,
            "max_width": null,
            "min_height": null,
            "min_width": null,
            "object_fit": null,
            "object_position": null,
            "order": null,
            "overflow": null,
            "overflow_x": null,
            "overflow_y": null,
            "padding": null,
            "right": null,
            "top": null,
            "visibility": null,
            "width": null
          }
        },
        "c6d4d7fc2af04e398049135ca847d8d3": {
          "model_module": "@jupyter-widgets/controls",
          "model_name": "ProgressStyleModel",
          "model_module_version": "1.5.0",
          "state": {
            "_model_module": "@jupyter-widgets/controls",
            "_model_module_version": "1.5.0",
            "_model_name": "ProgressStyleModel",
            "_view_count": null,
            "_view_module": "@jupyter-widgets/base",
            "_view_module_version": "1.2.0",
            "_view_name": "StyleView",
            "bar_color": null,
            "description_width": ""
          }
        },
        "b62639cde92f4e99a5e58521040568e9": {
          "model_module": "@jupyter-widgets/base",
          "model_name": "LayoutModel",
          "model_module_version": "1.2.0",
          "state": {
            "_model_module": "@jupyter-widgets/base",
            "_model_module_version": "1.2.0",
            "_model_name": "LayoutModel",
            "_view_count": null,
            "_view_module": "@jupyter-widgets/base",
            "_view_module_version": "1.2.0",
            "_view_name": "LayoutView",
            "align_content": null,
            "align_items": null,
            "align_self": null,
            "border": null,
            "bottom": null,
            "display": null,
            "flex": null,
            "flex_flow": null,
            "grid_area": null,
            "grid_auto_columns": null,
            "grid_auto_flow": null,
            "grid_auto_rows": null,
            "grid_column": null,
            "grid_gap": null,
            "grid_row": null,
            "grid_template_areas": null,
            "grid_template_columns": null,
            "grid_template_rows": null,
            "height": null,
            "justify_content": null,
            "justify_items": null,
            "left": null,
            "margin": null,
            "max_height": null,
            "max_width": null,
            "min_height": null,
            "min_width": null,
            "object_fit": null,
            "object_position": null,
            "order": null,
            "overflow": null,
            "overflow_x": null,
            "overflow_y": null,
            "padding": null,
            "right": null,
            "top": null,
            "visibility": null,
            "width": null
          }
        },
        "e4b6b9b86c4c432eb65a36767bed2764": {
          "model_module": "@jupyter-widgets/controls",
          "model_name": "DescriptionStyleModel",
          "model_module_version": "1.5.0",
          "state": {
            "_model_module": "@jupyter-widgets/controls",
            "_model_module_version": "1.5.0",
            "_model_name": "DescriptionStyleModel",
            "_view_count": null,
            "_view_module": "@jupyter-widgets/base",
            "_view_module_version": "1.2.0",
            "_view_name": "StyleView",
            "description_width": ""
          }
        },
        "aaed1d95b4c8476ca430c06698d902a8": {
          "model_module": "@jupyter-widgets/controls",
          "model_name": "HBoxModel",
          "model_module_version": "1.5.0",
          "state": {
            "_dom_classes": [],
            "_model_module": "@jupyter-widgets/controls",
            "_model_module_version": "1.5.0",
            "_model_name": "HBoxModel",
            "_view_count": null,
            "_view_module": "@jupyter-widgets/controls",
            "_view_module_version": "1.5.0",
            "_view_name": "HBoxView",
            "box_style": "",
            "children": [
              "IPY_MODEL_c0edf9e2df76400188969a2953a4c994",
              "IPY_MODEL_b09c8d3cc211401caa01f5c0b98a6cb5",
              "IPY_MODEL_edc1003c76c147b4bdcb9548c757f88e"
            ],
            "layout": "IPY_MODEL_6de65aa8662845fe93af1d46e9887eb1"
          }
        },
        "c0edf9e2df76400188969a2953a4c994": {
          "model_module": "@jupyter-widgets/controls",
          "model_name": "HTMLModel",
          "model_module_version": "1.5.0",
          "state": {
            "_dom_classes": [],
            "_model_module": "@jupyter-widgets/controls",
            "_model_module_version": "1.5.0",
            "_model_name": "HTMLModel",
            "_view_count": null,
            "_view_module": "@jupyter-widgets/controls",
            "_view_module_version": "1.5.0",
            "_view_name": "HTMLView",
            "description": "",
            "description_tooltip": null,
            "layout": "IPY_MODEL_572c703a15b64cd4b0ec0f8882b8fb21",
            "placeholder": "​",
            "style": "IPY_MODEL_dd82f229f0c54197a6a5f89fc5d28173",
            "value": "vocab.txt: 100%"
          }
        },
        "b09c8d3cc211401caa01f5c0b98a6cb5": {
          "model_module": "@jupyter-widgets/controls",
          "model_name": "FloatProgressModel",
          "model_module_version": "1.5.0",
          "state": {
            "_dom_classes": [],
            "_model_module": "@jupyter-widgets/controls",
            "_model_module_version": "1.5.0",
            "_model_name": "FloatProgressModel",
            "_view_count": null,
            "_view_module": "@jupyter-widgets/controls",
            "_view_module_version": "1.5.0",
            "_view_name": "ProgressView",
            "bar_style": "success",
            "description": "",
            "description_tooltip": null,
            "layout": "IPY_MODEL_0cb0b76f970b4939bd31630d4ed53739",
            "max": 231508,
            "min": 0,
            "orientation": "horizontal",
            "style": "IPY_MODEL_51b24bd574ed4dbe9dbccdafb67f3f08",
            "value": 231508
          }
        },
        "edc1003c76c147b4bdcb9548c757f88e": {
          "model_module": "@jupyter-widgets/controls",
          "model_name": "HTMLModel",
          "model_module_version": "1.5.0",
          "state": {
            "_dom_classes": [],
            "_model_module": "@jupyter-widgets/controls",
            "_model_module_version": "1.5.0",
            "_model_name": "HTMLModel",
            "_view_count": null,
            "_view_module": "@jupyter-widgets/controls",
            "_view_module_version": "1.5.0",
            "_view_name": "HTMLView",
            "description": "",
            "description_tooltip": null,
            "layout": "IPY_MODEL_b014c61dbba34863a21f53e4e981b05f",
            "placeholder": "​",
            "style": "IPY_MODEL_33e4673dd1e54a4ebf53aacf1bc35375",
            "value": " 232k/232k [00:00&lt;00:00, 1.69MB/s]"
          }
        },
        "6de65aa8662845fe93af1d46e9887eb1": {
          "model_module": "@jupyter-widgets/base",
          "model_name": "LayoutModel",
          "model_module_version": "1.2.0",
          "state": {
            "_model_module": "@jupyter-widgets/base",
            "_model_module_version": "1.2.0",
            "_model_name": "LayoutModel",
            "_view_count": null,
            "_view_module": "@jupyter-widgets/base",
            "_view_module_version": "1.2.0",
            "_view_name": "LayoutView",
            "align_content": null,
            "align_items": null,
            "align_self": null,
            "border": null,
            "bottom": null,
            "display": null,
            "flex": null,
            "flex_flow": null,
            "grid_area": null,
            "grid_auto_columns": null,
            "grid_auto_flow": null,
            "grid_auto_rows": null,
            "grid_column": null,
            "grid_gap": null,
            "grid_row": null,
            "grid_template_areas": null,
            "grid_template_columns": null,
            "grid_template_rows": null,
            "height": null,
            "justify_content": null,
            "justify_items": null,
            "left": null,
            "margin": null,
            "max_height": null,
            "max_width": null,
            "min_height": null,
            "min_width": null,
            "object_fit": null,
            "object_position": null,
            "order": null,
            "overflow": null,
            "overflow_x": null,
            "overflow_y": null,
            "padding": null,
            "right": null,
            "top": null,
            "visibility": null,
            "width": null
          }
        },
        "572c703a15b64cd4b0ec0f8882b8fb21": {
          "model_module": "@jupyter-widgets/base",
          "model_name": "LayoutModel",
          "model_module_version": "1.2.0",
          "state": {
            "_model_module": "@jupyter-widgets/base",
            "_model_module_version": "1.2.0",
            "_model_name": "LayoutModel",
            "_view_count": null,
            "_view_module": "@jupyter-widgets/base",
            "_view_module_version": "1.2.0",
            "_view_name": "LayoutView",
            "align_content": null,
            "align_items": null,
            "align_self": null,
            "border": null,
            "bottom": null,
            "display": null,
            "flex": null,
            "flex_flow": null,
            "grid_area": null,
            "grid_auto_columns": null,
            "grid_auto_flow": null,
            "grid_auto_rows": null,
            "grid_column": null,
            "grid_gap": null,
            "grid_row": null,
            "grid_template_areas": null,
            "grid_template_columns": null,
            "grid_template_rows": null,
            "height": null,
            "justify_content": null,
            "justify_items": null,
            "left": null,
            "margin": null,
            "max_height": null,
            "max_width": null,
            "min_height": null,
            "min_width": null,
            "object_fit": null,
            "object_position": null,
            "order": null,
            "overflow": null,
            "overflow_x": null,
            "overflow_y": null,
            "padding": null,
            "right": null,
            "top": null,
            "visibility": null,
            "width": null
          }
        },
        "dd82f229f0c54197a6a5f89fc5d28173": {
          "model_module": "@jupyter-widgets/controls",
          "model_name": "DescriptionStyleModel",
          "model_module_version": "1.5.0",
          "state": {
            "_model_module": "@jupyter-widgets/controls",
            "_model_module_version": "1.5.0",
            "_model_name": "DescriptionStyleModel",
            "_view_count": null,
            "_view_module": "@jupyter-widgets/base",
            "_view_module_version": "1.2.0",
            "_view_name": "StyleView",
            "description_width": ""
          }
        },
        "0cb0b76f970b4939bd31630d4ed53739": {
          "model_module": "@jupyter-widgets/base",
          "model_name": "LayoutModel",
          "model_module_version": "1.2.0",
          "state": {
            "_model_module": "@jupyter-widgets/base",
            "_model_module_version": "1.2.0",
            "_model_name": "LayoutModel",
            "_view_count": null,
            "_view_module": "@jupyter-widgets/base",
            "_view_module_version": "1.2.0",
            "_view_name": "LayoutView",
            "align_content": null,
            "align_items": null,
            "align_self": null,
            "border": null,
            "bottom": null,
            "display": null,
            "flex": null,
            "flex_flow": null,
            "grid_area": null,
            "grid_auto_columns": null,
            "grid_auto_flow": null,
            "grid_auto_rows": null,
            "grid_column": null,
            "grid_gap": null,
            "grid_row": null,
            "grid_template_areas": null,
            "grid_template_columns": null,
            "grid_template_rows": null,
            "height": null,
            "justify_content": null,
            "justify_items": null,
            "left": null,
            "margin": null,
            "max_height": null,
            "max_width": null,
            "min_height": null,
            "min_width": null,
            "object_fit": null,
            "object_position": null,
            "order": null,
            "overflow": null,
            "overflow_x": null,
            "overflow_y": null,
            "padding": null,
            "right": null,
            "top": null,
            "visibility": null,
            "width": null
          }
        },
        "51b24bd574ed4dbe9dbccdafb67f3f08": {
          "model_module": "@jupyter-widgets/controls",
          "model_name": "ProgressStyleModel",
          "model_module_version": "1.5.0",
          "state": {
            "_model_module": "@jupyter-widgets/controls",
            "_model_module_version": "1.5.0",
            "_model_name": "ProgressStyleModel",
            "_view_count": null,
            "_view_module": "@jupyter-widgets/base",
            "_view_module_version": "1.2.0",
            "_view_name": "StyleView",
            "bar_color": null,
            "description_width": ""
          }
        },
        "b014c61dbba34863a21f53e4e981b05f": {
          "model_module": "@jupyter-widgets/base",
          "model_name": "LayoutModel",
          "model_module_version": "1.2.0",
          "state": {
            "_model_module": "@jupyter-widgets/base",
            "_model_module_version": "1.2.0",
            "_model_name": "LayoutModel",
            "_view_count": null,
            "_view_module": "@jupyter-widgets/base",
            "_view_module_version": "1.2.0",
            "_view_name": "LayoutView",
            "align_content": null,
            "align_items": null,
            "align_self": null,
            "border": null,
            "bottom": null,
            "display": null,
            "flex": null,
            "flex_flow": null,
            "grid_area": null,
            "grid_auto_columns": null,
            "grid_auto_flow": null,
            "grid_auto_rows": null,
            "grid_column": null,
            "grid_gap": null,
            "grid_row": null,
            "grid_template_areas": null,
            "grid_template_columns": null,
            "grid_template_rows": null,
            "height": null,
            "justify_content": null,
            "justify_items": null,
            "left": null,
            "margin": null,
            "max_height": null,
            "max_width": null,
            "min_height": null,
            "min_width": null,
            "object_fit": null,
            "object_position": null,
            "order": null,
            "overflow": null,
            "overflow_x": null,
            "overflow_y": null,
            "padding": null,
            "right": null,
            "top": null,
            "visibility": null,
            "width": null
          }
        },
        "33e4673dd1e54a4ebf53aacf1bc35375": {
          "model_module": "@jupyter-widgets/controls",
          "model_name": "DescriptionStyleModel",
          "model_module_version": "1.5.0",
          "state": {
            "_model_module": "@jupyter-widgets/controls",
            "_model_module_version": "1.5.0",
            "_model_name": "DescriptionStyleModel",
            "_view_count": null,
            "_view_module": "@jupyter-widgets/base",
            "_view_module_version": "1.2.0",
            "_view_name": "StyleView",
            "description_width": ""
          }
        },
        "905fe160731a4c358f092c84d085b5f3": {
          "model_module": "@jupyter-widgets/controls",
          "model_name": "HBoxModel",
          "model_module_version": "1.5.0",
          "state": {
            "_dom_classes": [],
            "_model_module": "@jupyter-widgets/controls",
            "_model_module_version": "1.5.0",
            "_model_name": "HBoxModel",
            "_view_count": null,
            "_view_module": "@jupyter-widgets/controls",
            "_view_module_version": "1.5.0",
            "_view_name": "HBoxView",
            "box_style": "",
            "children": [
              "IPY_MODEL_07076b044d824e509a35e2dbacdf7285",
              "IPY_MODEL_d9eb3031f15941ce91751ecd2ef2cd87",
              "IPY_MODEL_11f6216f26be4acea1d5349486de9a08"
            ],
            "layout": "IPY_MODEL_2fca9053fddf4a0dba03dd523d0861db"
          }
        },
        "07076b044d824e509a35e2dbacdf7285": {
          "model_module": "@jupyter-widgets/controls",
          "model_name": "HTMLModel",
          "model_module_version": "1.5.0",
          "state": {
            "_dom_classes": [],
            "_model_module": "@jupyter-widgets/controls",
            "_model_module_version": "1.5.0",
            "_model_name": "HTMLModel",
            "_view_count": null,
            "_view_module": "@jupyter-widgets/controls",
            "_view_module_version": "1.5.0",
            "_view_name": "HTMLView",
            "description": "",
            "description_tooltip": null,
            "layout": "IPY_MODEL_b210846272574eec82880f0e3977d90c",
            "placeholder": "​",
            "style": "IPY_MODEL_2afe0087f3cf44e8aa2ed4af476f7190",
            "value": "config.json: 100%"
          }
        },
        "d9eb3031f15941ce91751ecd2ef2cd87": {
          "model_module": "@jupyter-widgets/controls",
          "model_name": "FloatProgressModel",
          "model_module_version": "1.5.0",
          "state": {
            "_dom_classes": [],
            "_model_module": "@jupyter-widgets/controls",
            "_model_module_version": "1.5.0",
            "_model_name": "FloatProgressModel",
            "_view_count": null,
            "_view_module": "@jupyter-widgets/controls",
            "_view_module_version": "1.5.0",
            "_view_name": "ProgressView",
            "bar_style": "success",
            "description": "",
            "description_tooltip": null,
            "layout": "IPY_MODEL_4d271914667e41fe9bdd7b0fc508367d",
            "max": 570,
            "min": 0,
            "orientation": "horizontal",
            "style": "IPY_MODEL_fcb150906aec41268ea94ab76cea6b50",
            "value": 570
          }
        },
        "11f6216f26be4acea1d5349486de9a08": {
          "model_module": "@jupyter-widgets/controls",
          "model_name": "HTMLModel",
          "model_module_version": "1.5.0",
          "state": {
            "_dom_classes": [],
            "_model_module": "@jupyter-widgets/controls",
            "_model_module_version": "1.5.0",
            "_model_name": "HTMLModel",
            "_view_count": null,
            "_view_module": "@jupyter-widgets/controls",
            "_view_module_version": "1.5.0",
            "_view_name": "HTMLView",
            "description": "",
            "description_tooltip": null,
            "layout": "IPY_MODEL_7e46b066b13e4e35a87f1e20ff86bf0f",
            "placeholder": "​",
            "style": "IPY_MODEL_e5bbec46b84544119b5aafa06997ec7b",
            "value": " 570/570 [00:00&lt;00:00, 18.2kB/s]"
          }
        },
        "2fca9053fddf4a0dba03dd523d0861db": {
          "model_module": "@jupyter-widgets/base",
          "model_name": "LayoutModel",
          "model_module_version": "1.2.0",
          "state": {
            "_model_module": "@jupyter-widgets/base",
            "_model_module_version": "1.2.0",
            "_model_name": "LayoutModel",
            "_view_count": null,
            "_view_module": "@jupyter-widgets/base",
            "_view_module_version": "1.2.0",
            "_view_name": "LayoutView",
            "align_content": null,
            "align_items": null,
            "align_self": null,
            "border": null,
            "bottom": null,
            "display": null,
            "flex": null,
            "flex_flow": null,
            "grid_area": null,
            "grid_auto_columns": null,
            "grid_auto_flow": null,
            "grid_auto_rows": null,
            "grid_column": null,
            "grid_gap": null,
            "grid_row": null,
            "grid_template_areas": null,
            "grid_template_columns": null,
            "grid_template_rows": null,
            "height": null,
            "justify_content": null,
            "justify_items": null,
            "left": null,
            "margin": null,
            "max_height": null,
            "max_width": null,
            "min_height": null,
            "min_width": null,
            "object_fit": null,
            "object_position": null,
            "order": null,
            "overflow": null,
            "overflow_x": null,
            "overflow_y": null,
            "padding": null,
            "right": null,
            "top": null,
            "visibility": null,
            "width": null
          }
        },
        "b210846272574eec82880f0e3977d90c": {
          "model_module": "@jupyter-widgets/base",
          "model_name": "LayoutModel",
          "model_module_version": "1.2.0",
          "state": {
            "_model_module": "@jupyter-widgets/base",
            "_model_module_version": "1.2.0",
            "_model_name": "LayoutModel",
            "_view_count": null,
            "_view_module": "@jupyter-widgets/base",
            "_view_module_version": "1.2.0",
            "_view_name": "LayoutView",
            "align_content": null,
            "align_items": null,
            "align_self": null,
            "border": null,
            "bottom": null,
            "display": null,
            "flex": null,
            "flex_flow": null,
            "grid_area": null,
            "grid_auto_columns": null,
            "grid_auto_flow": null,
            "grid_auto_rows": null,
            "grid_column": null,
            "grid_gap": null,
            "grid_row": null,
            "grid_template_areas": null,
            "grid_template_columns": null,
            "grid_template_rows": null,
            "height": null,
            "justify_content": null,
            "justify_items": null,
            "left": null,
            "margin": null,
            "max_height": null,
            "max_width": null,
            "min_height": null,
            "min_width": null,
            "object_fit": null,
            "object_position": null,
            "order": null,
            "overflow": null,
            "overflow_x": null,
            "overflow_y": null,
            "padding": null,
            "right": null,
            "top": null,
            "visibility": null,
            "width": null
          }
        },
        "2afe0087f3cf44e8aa2ed4af476f7190": {
          "model_module": "@jupyter-widgets/controls",
          "model_name": "DescriptionStyleModel",
          "model_module_version": "1.5.0",
          "state": {
            "_model_module": "@jupyter-widgets/controls",
            "_model_module_version": "1.5.0",
            "_model_name": "DescriptionStyleModel",
            "_view_count": null,
            "_view_module": "@jupyter-widgets/base",
            "_view_module_version": "1.2.0",
            "_view_name": "StyleView",
            "description_width": ""
          }
        },
        "4d271914667e41fe9bdd7b0fc508367d": {
          "model_module": "@jupyter-widgets/base",
          "model_name": "LayoutModel",
          "model_module_version": "1.2.0",
          "state": {
            "_model_module": "@jupyter-widgets/base",
            "_model_module_version": "1.2.0",
            "_model_name": "LayoutModel",
            "_view_count": null,
            "_view_module": "@jupyter-widgets/base",
            "_view_module_version": "1.2.0",
            "_view_name": "LayoutView",
            "align_content": null,
            "align_items": null,
            "align_self": null,
            "border": null,
            "bottom": null,
            "display": null,
            "flex": null,
            "flex_flow": null,
            "grid_area": null,
            "grid_auto_columns": null,
            "grid_auto_flow": null,
            "grid_auto_rows": null,
            "grid_column": null,
            "grid_gap": null,
            "grid_row": null,
            "grid_template_areas": null,
            "grid_template_columns": null,
            "grid_template_rows": null,
            "height": null,
            "justify_content": null,
            "justify_items": null,
            "left": null,
            "margin": null,
            "max_height": null,
            "max_width": null,
            "min_height": null,
            "min_width": null,
            "object_fit": null,
            "object_position": null,
            "order": null,
            "overflow": null,
            "overflow_x": null,
            "overflow_y": null,
            "padding": null,
            "right": null,
            "top": null,
            "visibility": null,
            "width": null
          }
        },
        "fcb150906aec41268ea94ab76cea6b50": {
          "model_module": "@jupyter-widgets/controls",
          "model_name": "ProgressStyleModel",
          "model_module_version": "1.5.0",
          "state": {
            "_model_module": "@jupyter-widgets/controls",
            "_model_module_version": "1.5.0",
            "_model_name": "ProgressStyleModel",
            "_view_count": null,
            "_view_module": "@jupyter-widgets/base",
            "_view_module_version": "1.2.0",
            "_view_name": "StyleView",
            "bar_color": null,
            "description_width": ""
          }
        },
        "7e46b066b13e4e35a87f1e20ff86bf0f": {
          "model_module": "@jupyter-widgets/base",
          "model_name": "LayoutModel",
          "model_module_version": "1.2.0",
          "state": {
            "_model_module": "@jupyter-widgets/base",
            "_model_module_version": "1.2.0",
            "_model_name": "LayoutModel",
            "_view_count": null,
            "_view_module": "@jupyter-widgets/base",
            "_view_module_version": "1.2.0",
            "_view_name": "LayoutView",
            "align_content": null,
            "align_items": null,
            "align_self": null,
            "border": null,
            "bottom": null,
            "display": null,
            "flex": null,
            "flex_flow": null,
            "grid_area": null,
            "grid_auto_columns": null,
            "grid_auto_flow": null,
            "grid_auto_rows": null,
            "grid_column": null,
            "grid_gap": null,
            "grid_row": null,
            "grid_template_areas": null,
            "grid_template_columns": null,
            "grid_template_rows": null,
            "height": null,
            "justify_content": null,
            "justify_items": null,
            "left": null,
            "margin": null,
            "max_height": null,
            "max_width": null,
            "min_height": null,
            "min_width": null,
            "object_fit": null,
            "object_position": null,
            "order": null,
            "overflow": null,
            "overflow_x": null,
            "overflow_y": null,
            "padding": null,
            "right": null,
            "top": null,
            "visibility": null,
            "width": null
          }
        },
        "e5bbec46b84544119b5aafa06997ec7b": {
          "model_module": "@jupyter-widgets/controls",
          "model_name": "DescriptionStyleModel",
          "model_module_version": "1.5.0",
          "state": {
            "_model_module": "@jupyter-widgets/controls",
            "_model_module_version": "1.5.0",
            "_model_name": "DescriptionStyleModel",
            "_view_count": null,
            "_view_module": "@jupyter-widgets/base",
            "_view_module_version": "1.2.0",
            "_view_name": "StyleView",
            "description_width": ""
          }
        },
        "73bcb3eb21bb4139b3165207f9edee8c": {
          "model_module": "@jupyter-widgets/controls",
          "model_name": "HBoxModel",
          "model_module_version": "1.5.0",
          "state": {
            "_dom_classes": [],
            "_model_module": "@jupyter-widgets/controls",
            "_model_module_version": "1.5.0",
            "_model_name": "HBoxModel",
            "_view_count": null,
            "_view_module": "@jupyter-widgets/controls",
            "_view_module_version": "1.5.0",
            "_view_name": "HBoxView",
            "box_style": "",
            "children": [
              "IPY_MODEL_e17087f77e54458b9354fd7916869c8d",
              "IPY_MODEL_012e5abf67104ee8ab0497818c0b1f28",
              "IPY_MODEL_5c5a61573f4a480685792984c3c52b17"
            ],
            "layout": "IPY_MODEL_90ae2d6339c24617a699ffff676cbbfe"
          }
        },
        "e17087f77e54458b9354fd7916869c8d": {
          "model_module": "@jupyter-widgets/controls",
          "model_name": "HTMLModel",
          "model_module_version": "1.5.0",
          "state": {
            "_dom_classes": [],
            "_model_module": "@jupyter-widgets/controls",
            "_model_module_version": "1.5.0",
            "_model_name": "HTMLModel",
            "_view_count": null,
            "_view_module": "@jupyter-widgets/controls",
            "_view_module_version": "1.5.0",
            "_view_name": "HTMLView",
            "description": "",
            "description_tooltip": null,
            "layout": "IPY_MODEL_12d501d910f04c3f9b0647981b31cb32",
            "placeholder": "​",
            "style": "IPY_MODEL_6a7ebeead2324d26ad904bea3968d7b9",
            "value": "model.safetensors: 100%"
          }
        },
        "012e5abf67104ee8ab0497818c0b1f28": {
          "model_module": "@jupyter-widgets/controls",
          "model_name": "FloatProgressModel",
          "model_module_version": "1.5.0",
          "state": {
            "_dom_classes": [],
            "_model_module": "@jupyter-widgets/controls",
            "_model_module_version": "1.5.0",
            "_model_name": "FloatProgressModel",
            "_view_count": null,
            "_view_module": "@jupyter-widgets/controls",
            "_view_module_version": "1.5.0",
            "_view_name": "ProgressView",
            "bar_style": "success",
            "description": "",
            "description_tooltip": null,
            "layout": "IPY_MODEL_392940fb941d4b8d9257c88200312f00",
            "max": 435755784,
            "min": 0,
            "orientation": "horizontal",
            "style": "IPY_MODEL_00f0c12c3f4949a58541d7652d029e10",
            "value": 435755784
          }
        },
        "5c5a61573f4a480685792984c3c52b17": {
          "model_module": "@jupyter-widgets/controls",
          "model_name": "HTMLModel",
          "model_module_version": "1.5.0",
          "state": {
            "_dom_classes": [],
            "_model_module": "@jupyter-widgets/controls",
            "_model_module_version": "1.5.0",
            "_model_name": "HTMLModel",
            "_view_count": null,
            "_view_module": "@jupyter-widgets/controls",
            "_view_module_version": "1.5.0",
            "_view_name": "HTMLView",
            "description": "",
            "description_tooltip": null,
            "layout": "IPY_MODEL_415c222394984ac2a55513d6545e0336",
            "placeholder": "​",
            "style": "IPY_MODEL_18ea3f5cc257421fa62ffcd98a683e4b",
            "value": " 436M/436M [00:06&lt;00:00, 111MB/s]"
          }
        },
        "90ae2d6339c24617a699ffff676cbbfe": {
          "model_module": "@jupyter-widgets/base",
          "model_name": "LayoutModel",
          "model_module_version": "1.2.0",
          "state": {
            "_model_module": "@jupyter-widgets/base",
            "_model_module_version": "1.2.0",
            "_model_name": "LayoutModel",
            "_view_count": null,
            "_view_module": "@jupyter-widgets/base",
            "_view_module_version": "1.2.0",
            "_view_name": "LayoutView",
            "align_content": null,
            "align_items": null,
            "align_self": null,
            "border": null,
            "bottom": null,
            "display": null,
            "flex": null,
            "flex_flow": null,
            "grid_area": null,
            "grid_auto_columns": null,
            "grid_auto_flow": null,
            "grid_auto_rows": null,
            "grid_column": null,
            "grid_gap": null,
            "grid_row": null,
            "grid_template_areas": null,
            "grid_template_columns": null,
            "grid_template_rows": null,
            "height": null,
            "justify_content": null,
            "justify_items": null,
            "left": null,
            "margin": null,
            "max_height": null,
            "max_width": null,
            "min_height": null,
            "min_width": null,
            "object_fit": null,
            "object_position": null,
            "order": null,
            "overflow": null,
            "overflow_x": null,
            "overflow_y": null,
            "padding": null,
            "right": null,
            "top": null,
            "visibility": null,
            "width": null
          }
        },
        "12d501d910f04c3f9b0647981b31cb32": {
          "model_module": "@jupyter-widgets/base",
          "model_name": "LayoutModel",
          "model_module_version": "1.2.0",
          "state": {
            "_model_module": "@jupyter-widgets/base",
            "_model_module_version": "1.2.0",
            "_model_name": "LayoutModel",
            "_view_count": null,
            "_view_module": "@jupyter-widgets/base",
            "_view_module_version": "1.2.0",
            "_view_name": "LayoutView",
            "align_content": null,
            "align_items": null,
            "align_self": null,
            "border": null,
            "bottom": null,
            "display": null,
            "flex": null,
            "flex_flow": null,
            "grid_area": null,
            "grid_auto_columns": null,
            "grid_auto_flow": null,
            "grid_auto_rows": null,
            "grid_column": null,
            "grid_gap": null,
            "grid_row": null,
            "grid_template_areas": null,
            "grid_template_columns": null,
            "grid_template_rows": null,
            "height": null,
            "justify_content": null,
            "justify_items": null,
            "left": null,
            "margin": null,
            "max_height": null,
            "max_width": null,
            "min_height": null,
            "min_width": null,
            "object_fit": null,
            "object_position": null,
            "order": null,
            "overflow": null,
            "overflow_x": null,
            "overflow_y": null,
            "padding": null,
            "right": null,
            "top": null,
            "visibility": null,
            "width": null
          }
        },
        "6a7ebeead2324d26ad904bea3968d7b9": {
          "model_module": "@jupyter-widgets/controls",
          "model_name": "DescriptionStyleModel",
          "model_module_version": "1.5.0",
          "state": {
            "_model_module": "@jupyter-widgets/controls",
            "_model_module_version": "1.5.0",
            "_model_name": "DescriptionStyleModel",
            "_view_count": null,
            "_view_module": "@jupyter-widgets/base",
            "_view_module_version": "1.2.0",
            "_view_name": "StyleView",
            "description_width": ""
          }
        },
        "392940fb941d4b8d9257c88200312f00": {
          "model_module": "@jupyter-widgets/base",
          "model_name": "LayoutModel",
          "model_module_version": "1.2.0",
          "state": {
            "_model_module": "@jupyter-widgets/base",
            "_model_module_version": "1.2.0",
            "_model_name": "LayoutModel",
            "_view_count": null,
            "_view_module": "@jupyter-widgets/base",
            "_view_module_version": "1.2.0",
            "_view_name": "LayoutView",
            "align_content": null,
            "align_items": null,
            "align_self": null,
            "border": null,
            "bottom": null,
            "display": null,
            "flex": null,
            "flex_flow": null,
            "grid_area": null,
            "grid_auto_columns": null,
            "grid_auto_flow": null,
            "grid_auto_rows": null,
            "grid_column": null,
            "grid_gap": null,
            "grid_row": null,
            "grid_template_areas": null,
            "grid_template_columns": null,
            "grid_template_rows": null,
            "height": null,
            "justify_content": null,
            "justify_items": null,
            "left": null,
            "margin": null,
            "max_height": null,
            "max_width": null,
            "min_height": null,
            "min_width": null,
            "object_fit": null,
            "object_position": null,
            "order": null,
            "overflow": null,
            "overflow_x": null,
            "overflow_y": null,
            "padding": null,
            "right": null,
            "top": null,
            "visibility": null,
            "width": null
          }
        },
        "00f0c12c3f4949a58541d7652d029e10": {
          "model_module": "@jupyter-widgets/controls",
          "model_name": "ProgressStyleModel",
          "model_module_version": "1.5.0",
          "state": {
            "_model_module": "@jupyter-widgets/controls",
            "_model_module_version": "1.5.0",
            "_model_name": "ProgressStyleModel",
            "_view_count": null,
            "_view_module": "@jupyter-widgets/base",
            "_view_module_version": "1.2.0",
            "_view_name": "StyleView",
            "bar_color": null,
            "description_width": ""
          }
        },
        "415c222394984ac2a55513d6545e0336": {
          "model_module": "@jupyter-widgets/base",
          "model_name": "LayoutModel",
          "model_module_version": "1.2.0",
          "state": {
            "_model_module": "@jupyter-widgets/base",
            "_model_module_version": "1.2.0",
            "_model_name": "LayoutModel",
            "_view_count": null,
            "_view_module": "@jupyter-widgets/base",
            "_view_module_version": "1.2.0",
            "_view_name": "LayoutView",
            "align_content": null,
            "align_items": null,
            "align_self": null,
            "border": null,
            "bottom": null,
            "display": null,
            "flex": null,
            "flex_flow": null,
            "grid_area": null,
            "grid_auto_columns": null,
            "grid_auto_flow": null,
            "grid_auto_rows": null,
            "grid_column": null,
            "grid_gap": null,
            "grid_row": null,
            "grid_template_areas": null,
            "grid_template_columns": null,
            "grid_template_rows": null,
            "height": null,
            "justify_content": null,
            "justify_items": null,
            "left": null,
            "margin": null,
            "max_height": null,
            "max_width": null,
            "min_height": null,
            "min_width": null,
            "object_fit": null,
            "object_position": null,
            "order": null,
            "overflow": null,
            "overflow_x": null,
            "overflow_y": null,
            "padding": null,
            "right": null,
            "top": null,
            "visibility": null,
            "width": null
          }
        },
        "18ea3f5cc257421fa62ffcd98a683e4b": {
          "model_module": "@jupyter-widgets/controls",
          "model_name": "DescriptionStyleModel",
          "model_module_version": "1.5.0",
          "state": {
            "_model_module": "@jupyter-widgets/controls",
            "_model_module_version": "1.5.0",
            "_model_name": "DescriptionStyleModel",
            "_view_count": null,
            "_view_module": "@jupyter-widgets/base",
            "_view_module_version": "1.2.0",
            "_view_name": "StyleView",
            "description_width": ""
          }
        },
        "1dc7bb02add443889faefe3d3519ae73": {
          "model_module": "@jupyter-widgets/controls",
          "model_name": "HBoxModel",
          "model_module_version": "1.5.0",
          "state": {
            "_dom_classes": [],
            "_model_module": "@jupyter-widgets/controls",
            "_model_module_version": "1.5.0",
            "_model_name": "HBoxModel",
            "_view_count": null,
            "_view_module": "@jupyter-widgets/controls",
            "_view_module_version": "1.5.0",
            "_view_name": "HBoxView",
            "box_style": "",
            "children": [
              "IPY_MODEL_3ef3b903f7dc4cde93c769d4580036c4",
              "IPY_MODEL_7b6020fc87404034bf33e11ec079840e",
              "IPY_MODEL_3029160c14184912b5fe30db73f4c035"
            ],
            "layout": "IPY_MODEL_123cb318c995448d9ffc37e5d0d1ad72"
          }
        },
        "3ef3b903f7dc4cde93c769d4580036c4": {
          "model_module": "@jupyter-widgets/controls",
          "model_name": "HTMLModel",
          "model_module_version": "1.5.0",
          "state": {
            "_dom_classes": [],
            "_model_module": "@jupyter-widgets/controls",
            "_model_module_version": "1.5.0",
            "_model_name": "HTMLModel",
            "_view_count": null,
            "_view_module": "@jupyter-widgets/controls",
            "_view_module_version": "1.5.0",
            "_view_name": "HTMLView",
            "description": "",
            "description_tooltip": null,
            "layout": "IPY_MODEL_d3c16f9550ba42159edbab22d9d51aaa",
            "placeholder": "​",
            "style": "IPY_MODEL_1ffe01512f46428b87b4e16ce18ad6d5",
            "value": "tokenizer_config.json: 100%"
          }
        },
        "7b6020fc87404034bf33e11ec079840e": {
          "model_module": "@jupyter-widgets/controls",
          "model_name": "FloatProgressModel",
          "model_module_version": "1.5.0",
          "state": {
            "_dom_classes": [],
            "_model_module": "@jupyter-widgets/controls",
            "_model_module_version": "1.5.0",
            "_model_name": "FloatProgressModel",
            "_view_count": null,
            "_view_module": "@jupyter-widgets/controls",
            "_view_module_version": "1.5.0",
            "_view_name": "ProgressView",
            "bar_style": "success",
            "description": "",
            "description_tooltip": null,
            "layout": "IPY_MODEL_d3fef40eea58482f9ce7f2668f7287cc",
            "max": 49,
            "min": 0,
            "orientation": "horizontal",
            "style": "IPY_MODEL_7949b721f162472d9a330bcf86154b46",
            "value": 49
          }
        },
        "3029160c14184912b5fe30db73f4c035": {
          "model_module": "@jupyter-widgets/controls",
          "model_name": "HTMLModel",
          "model_module_version": "1.5.0",
          "state": {
            "_dom_classes": [],
            "_model_module": "@jupyter-widgets/controls",
            "_model_module_version": "1.5.0",
            "_model_name": "HTMLModel",
            "_view_count": null,
            "_view_module": "@jupyter-widgets/controls",
            "_view_module_version": "1.5.0",
            "_view_name": "HTMLView",
            "description": "",
            "description_tooltip": null,
            "layout": "IPY_MODEL_3ad0953ccb0a490d98f771c0e49d87e9",
            "placeholder": "​",
            "style": "IPY_MODEL_d665c3300fa84273a1a1a26995180a0d",
            "value": " 49.0/49.0 [00:00&lt;00:00, 3.85kB/s]"
          }
        },
        "123cb318c995448d9ffc37e5d0d1ad72": {
          "model_module": "@jupyter-widgets/base",
          "model_name": "LayoutModel",
          "model_module_version": "1.2.0",
          "state": {
            "_model_module": "@jupyter-widgets/base",
            "_model_module_version": "1.2.0",
            "_model_name": "LayoutModel",
            "_view_count": null,
            "_view_module": "@jupyter-widgets/base",
            "_view_module_version": "1.2.0",
            "_view_name": "LayoutView",
            "align_content": null,
            "align_items": null,
            "align_self": null,
            "border": null,
            "bottom": null,
            "display": null,
            "flex": null,
            "flex_flow": null,
            "grid_area": null,
            "grid_auto_columns": null,
            "grid_auto_flow": null,
            "grid_auto_rows": null,
            "grid_column": null,
            "grid_gap": null,
            "grid_row": null,
            "grid_template_areas": null,
            "grid_template_columns": null,
            "grid_template_rows": null,
            "height": null,
            "justify_content": null,
            "justify_items": null,
            "left": null,
            "margin": null,
            "max_height": null,
            "max_width": null,
            "min_height": null,
            "min_width": null,
            "object_fit": null,
            "object_position": null,
            "order": null,
            "overflow": null,
            "overflow_x": null,
            "overflow_y": null,
            "padding": null,
            "right": null,
            "top": null,
            "visibility": null,
            "width": null
          }
        },
        "d3c16f9550ba42159edbab22d9d51aaa": {
          "model_module": "@jupyter-widgets/base",
          "model_name": "LayoutModel",
          "model_module_version": "1.2.0",
          "state": {
            "_model_module": "@jupyter-widgets/base",
            "_model_module_version": "1.2.0",
            "_model_name": "LayoutModel",
            "_view_count": null,
            "_view_module": "@jupyter-widgets/base",
            "_view_module_version": "1.2.0",
            "_view_name": "LayoutView",
            "align_content": null,
            "align_items": null,
            "align_self": null,
            "border": null,
            "bottom": null,
            "display": null,
            "flex": null,
            "flex_flow": null,
            "grid_area": null,
            "grid_auto_columns": null,
            "grid_auto_flow": null,
            "grid_auto_rows": null,
            "grid_column": null,
            "grid_gap": null,
            "grid_row": null,
            "grid_template_areas": null,
            "grid_template_columns": null,
            "grid_template_rows": null,
            "height": null,
            "justify_content": null,
            "justify_items": null,
            "left": null,
            "margin": null,
            "max_height": null,
            "max_width": null,
            "min_height": null,
            "min_width": null,
            "object_fit": null,
            "object_position": null,
            "order": null,
            "overflow": null,
            "overflow_x": null,
            "overflow_y": null,
            "padding": null,
            "right": null,
            "top": null,
            "visibility": null,
            "width": null
          }
        },
        "1ffe01512f46428b87b4e16ce18ad6d5": {
          "model_module": "@jupyter-widgets/controls",
          "model_name": "DescriptionStyleModel",
          "model_module_version": "1.5.0",
          "state": {
            "_model_module": "@jupyter-widgets/controls",
            "_model_module_version": "1.5.0",
            "_model_name": "DescriptionStyleModel",
            "_view_count": null,
            "_view_module": "@jupyter-widgets/base",
            "_view_module_version": "1.2.0",
            "_view_name": "StyleView",
            "description_width": ""
          }
        },
        "d3fef40eea58482f9ce7f2668f7287cc": {
          "model_module": "@jupyter-widgets/base",
          "model_name": "LayoutModel",
          "model_module_version": "1.2.0",
          "state": {
            "_model_module": "@jupyter-widgets/base",
            "_model_module_version": "1.2.0",
            "_model_name": "LayoutModel",
            "_view_count": null,
            "_view_module": "@jupyter-widgets/base",
            "_view_module_version": "1.2.0",
            "_view_name": "LayoutView",
            "align_content": null,
            "align_items": null,
            "align_self": null,
            "border": null,
            "bottom": null,
            "display": null,
            "flex": null,
            "flex_flow": null,
            "grid_area": null,
            "grid_auto_columns": null,
            "grid_auto_flow": null,
            "grid_auto_rows": null,
            "grid_column": null,
            "grid_gap": null,
            "grid_row": null,
            "grid_template_areas": null,
            "grid_template_columns": null,
            "grid_template_rows": null,
            "height": null,
            "justify_content": null,
            "justify_items": null,
            "left": null,
            "margin": null,
            "max_height": null,
            "max_width": null,
            "min_height": null,
            "min_width": null,
            "object_fit": null,
            "object_position": null,
            "order": null,
            "overflow": null,
            "overflow_x": null,
            "overflow_y": null,
            "padding": null,
            "right": null,
            "top": null,
            "visibility": null,
            "width": null
          }
        },
        "7949b721f162472d9a330bcf86154b46": {
          "model_module": "@jupyter-widgets/controls",
          "model_name": "ProgressStyleModel",
          "model_module_version": "1.5.0",
          "state": {
            "_model_module": "@jupyter-widgets/controls",
            "_model_module_version": "1.5.0",
            "_model_name": "ProgressStyleModel",
            "_view_count": null,
            "_view_module": "@jupyter-widgets/base",
            "_view_module_version": "1.2.0",
            "_view_name": "StyleView",
            "bar_color": null,
            "description_width": ""
          }
        },
        "3ad0953ccb0a490d98f771c0e49d87e9": {
          "model_module": "@jupyter-widgets/base",
          "model_name": "LayoutModel",
          "model_module_version": "1.2.0",
          "state": {
            "_model_module": "@jupyter-widgets/base",
            "_model_module_version": "1.2.0",
            "_model_name": "LayoutModel",
            "_view_count": null,
            "_view_module": "@jupyter-widgets/base",
            "_view_module_version": "1.2.0",
            "_view_name": "LayoutView",
            "align_content": null,
            "align_items": null,
            "align_self": null,
            "border": null,
            "bottom": null,
            "display": null,
            "flex": null,
            "flex_flow": null,
            "grid_area": null,
            "grid_auto_columns": null,
            "grid_auto_flow": null,
            "grid_auto_rows": null,
            "grid_column": null,
            "grid_gap": null,
            "grid_row": null,
            "grid_template_areas": null,
            "grid_template_columns": null,
            "grid_template_rows": null,
            "height": null,
            "justify_content": null,
            "justify_items": null,
            "left": null,
            "margin": null,
            "max_height": null,
            "max_width": null,
            "min_height": null,
            "min_width": null,
            "object_fit": null,
            "object_position": null,
            "order": null,
            "overflow": null,
            "overflow_x": null,
            "overflow_y": null,
            "padding": null,
            "right": null,
            "top": null,
            "visibility": null,
            "width": null
          }
        },
        "d665c3300fa84273a1a1a26995180a0d": {
          "model_module": "@jupyter-widgets/controls",
          "model_name": "DescriptionStyleModel",
          "model_module_version": "1.5.0",
          "state": {
            "_model_module": "@jupyter-widgets/controls",
            "_model_module_version": "1.5.0",
            "_model_name": "DescriptionStyleModel",
            "_view_count": null,
            "_view_module": "@jupyter-widgets/base",
            "_view_module_version": "1.2.0",
            "_view_name": "StyleView",
            "description_width": ""
          }
        },
        "a6d793039f8f4845861bee4e7f8edad3": {
          "model_module": "@jupyter-widgets/controls",
          "model_name": "HBoxModel",
          "model_module_version": "1.5.0",
          "state": {
            "_dom_classes": [],
            "_model_module": "@jupyter-widgets/controls",
            "_model_module_version": "1.5.0",
            "_model_name": "HBoxModel",
            "_view_count": null,
            "_view_module": "@jupyter-widgets/controls",
            "_view_module_version": "1.5.0",
            "_view_name": "HBoxView",
            "box_style": "",
            "children": [
              "IPY_MODEL_ab28732cf56b43649dace9e9c8f0e45c",
              "IPY_MODEL_853b3541d4cc4320b89c2feb5ea1f562",
              "IPY_MODEL_b89eb498d9f547099a2ad89a137ecaa7"
            ],
            "layout": "IPY_MODEL_9d753e3f58c74c008209cc911e80cffc"
          }
        },
        "ab28732cf56b43649dace9e9c8f0e45c": {
          "model_module": "@jupyter-widgets/controls",
          "model_name": "HTMLModel",
          "model_module_version": "1.5.0",
          "state": {
            "_dom_classes": [],
            "_model_module": "@jupyter-widgets/controls",
            "_model_module_version": "1.5.0",
            "_model_name": "HTMLModel",
            "_view_count": null,
            "_view_module": "@jupyter-widgets/controls",
            "_view_module_version": "1.5.0",
            "_view_name": "HTMLView",
            "description": "",
            "description_tooltip": null,
            "layout": "IPY_MODEL_b795bb619d174332b030137620c89453",
            "placeholder": "​",
            "style": "IPY_MODEL_241b69cfd5fb42809f6a77e7203e489a",
            "value": "vocab.txt: 100%"
          }
        },
        "853b3541d4cc4320b89c2feb5ea1f562": {
          "model_module": "@jupyter-widgets/controls",
          "model_name": "FloatProgressModel",
          "model_module_version": "1.5.0",
          "state": {
            "_dom_classes": [],
            "_model_module": "@jupyter-widgets/controls",
            "_model_module_version": "1.5.0",
            "_model_name": "FloatProgressModel",
            "_view_count": null,
            "_view_module": "@jupyter-widgets/controls",
            "_view_module_version": "1.5.0",
            "_view_name": "ProgressView",
            "bar_style": "success",
            "description": "",
            "description_tooltip": null,
            "layout": "IPY_MODEL_88ce38f3c7154e0b97d352fd2a4deff3",
            "max": 213450,
            "min": 0,
            "orientation": "horizontal",
            "style": "IPY_MODEL_b7b3801e833b4c18aeaacacf6b08d9c3",
            "value": 213450
          }
        },
        "b89eb498d9f547099a2ad89a137ecaa7": {
          "model_module": "@jupyter-widgets/controls",
          "model_name": "HTMLModel",
          "model_module_version": "1.5.0",
          "state": {
            "_dom_classes": [],
            "_model_module": "@jupyter-widgets/controls",
            "_model_module_version": "1.5.0",
            "_model_name": "HTMLModel",
            "_view_count": null,
            "_view_module": "@jupyter-widgets/controls",
            "_view_module_version": "1.5.0",
            "_view_name": "HTMLView",
            "description": "",
            "description_tooltip": null,
            "layout": "IPY_MODEL_39e47c138a1342bb8674eb8b8dffbe40",
            "placeholder": "​",
            "style": "IPY_MODEL_448785589ba046f095f52a98c9400c71",
            "value": " 213k/213k [00:00&lt;00:00, 1.54MB/s]"
          }
        },
        "9d753e3f58c74c008209cc911e80cffc": {
          "model_module": "@jupyter-widgets/base",
          "model_name": "LayoutModel",
          "model_module_version": "1.2.0",
          "state": {
            "_model_module": "@jupyter-widgets/base",
            "_model_module_version": "1.2.0",
            "_model_name": "LayoutModel",
            "_view_count": null,
            "_view_module": "@jupyter-widgets/base",
            "_view_module_version": "1.2.0",
            "_view_name": "LayoutView",
            "align_content": null,
            "align_items": null,
            "align_self": null,
            "border": null,
            "bottom": null,
            "display": null,
            "flex": null,
            "flex_flow": null,
            "grid_area": null,
            "grid_auto_columns": null,
            "grid_auto_flow": null,
            "grid_auto_rows": null,
            "grid_column": null,
            "grid_gap": null,
            "grid_row": null,
            "grid_template_areas": null,
            "grid_template_columns": null,
            "grid_template_rows": null,
            "height": null,
            "justify_content": null,
            "justify_items": null,
            "left": null,
            "margin": null,
            "max_height": null,
            "max_width": null,
            "min_height": null,
            "min_width": null,
            "object_fit": null,
            "object_position": null,
            "order": null,
            "overflow": null,
            "overflow_x": null,
            "overflow_y": null,
            "padding": null,
            "right": null,
            "top": null,
            "visibility": null,
            "width": null
          }
        },
        "b795bb619d174332b030137620c89453": {
          "model_module": "@jupyter-widgets/base",
          "model_name": "LayoutModel",
          "model_module_version": "1.2.0",
          "state": {
            "_model_module": "@jupyter-widgets/base",
            "_model_module_version": "1.2.0",
            "_model_name": "LayoutModel",
            "_view_count": null,
            "_view_module": "@jupyter-widgets/base",
            "_view_module_version": "1.2.0",
            "_view_name": "LayoutView",
            "align_content": null,
            "align_items": null,
            "align_self": null,
            "border": null,
            "bottom": null,
            "display": null,
            "flex": null,
            "flex_flow": null,
            "grid_area": null,
            "grid_auto_columns": null,
            "grid_auto_flow": null,
            "grid_auto_rows": null,
            "grid_column": null,
            "grid_gap": null,
            "grid_row": null,
            "grid_template_areas": null,
            "grid_template_columns": null,
            "grid_template_rows": null,
            "height": null,
            "justify_content": null,
            "justify_items": null,
            "left": null,
            "margin": null,
            "max_height": null,
            "max_width": null,
            "min_height": null,
            "min_width": null,
            "object_fit": null,
            "object_position": null,
            "order": null,
            "overflow": null,
            "overflow_x": null,
            "overflow_y": null,
            "padding": null,
            "right": null,
            "top": null,
            "visibility": null,
            "width": null
          }
        },
        "241b69cfd5fb42809f6a77e7203e489a": {
          "model_module": "@jupyter-widgets/controls",
          "model_name": "DescriptionStyleModel",
          "model_module_version": "1.5.0",
          "state": {
            "_model_module": "@jupyter-widgets/controls",
            "_model_module_version": "1.5.0",
            "_model_name": "DescriptionStyleModel",
            "_view_count": null,
            "_view_module": "@jupyter-widgets/base",
            "_view_module_version": "1.2.0",
            "_view_name": "StyleView",
            "description_width": ""
          }
        },
        "88ce38f3c7154e0b97d352fd2a4deff3": {
          "model_module": "@jupyter-widgets/base",
          "model_name": "LayoutModel",
          "model_module_version": "1.2.0",
          "state": {
            "_model_module": "@jupyter-widgets/base",
            "_model_module_version": "1.2.0",
            "_model_name": "LayoutModel",
            "_view_count": null,
            "_view_module": "@jupyter-widgets/base",
            "_view_module_version": "1.2.0",
            "_view_name": "LayoutView",
            "align_content": null,
            "align_items": null,
            "align_self": null,
            "border": null,
            "bottom": null,
            "display": null,
            "flex": null,
            "flex_flow": null,
            "grid_area": null,
            "grid_auto_columns": null,
            "grid_auto_flow": null,
            "grid_auto_rows": null,
            "grid_column": null,
            "grid_gap": null,
            "grid_row": null,
            "grid_template_areas": null,
            "grid_template_columns": null,
            "grid_template_rows": null,
            "height": null,
            "justify_content": null,
            "justify_items": null,
            "left": null,
            "margin": null,
            "max_height": null,
            "max_width": null,
            "min_height": null,
            "min_width": null,
            "object_fit": null,
            "object_position": null,
            "order": null,
            "overflow": null,
            "overflow_x": null,
            "overflow_y": null,
            "padding": null,
            "right": null,
            "top": null,
            "visibility": null,
            "width": null
          }
        },
        "b7b3801e833b4c18aeaacacf6b08d9c3": {
          "model_module": "@jupyter-widgets/controls",
          "model_name": "ProgressStyleModel",
          "model_module_version": "1.5.0",
          "state": {
            "_model_module": "@jupyter-widgets/controls",
            "_model_module_version": "1.5.0",
            "_model_name": "ProgressStyleModel",
            "_view_count": null,
            "_view_module": "@jupyter-widgets/base",
            "_view_module_version": "1.2.0",
            "_view_name": "StyleView",
            "bar_color": null,
            "description_width": ""
          }
        },
        "39e47c138a1342bb8674eb8b8dffbe40": {
          "model_module": "@jupyter-widgets/base",
          "model_name": "LayoutModel",
          "model_module_version": "1.2.0",
          "state": {
            "_model_module": "@jupyter-widgets/base",
            "_model_module_version": "1.2.0",
            "_model_name": "LayoutModel",
            "_view_count": null,
            "_view_module": "@jupyter-widgets/base",
            "_view_module_version": "1.2.0",
            "_view_name": "LayoutView",
            "align_content": null,
            "align_items": null,
            "align_self": null,
            "border": null,
            "bottom": null,
            "display": null,
            "flex": null,
            "flex_flow": null,
            "grid_area": null,
            "grid_auto_columns": null,
            "grid_auto_flow": null,
            "grid_auto_rows": null,
            "grid_column": null,
            "grid_gap": null,
            "grid_row": null,
            "grid_template_areas": null,
            "grid_template_columns": null,
            "grid_template_rows": null,
            "height": null,
            "justify_content": null,
            "justify_items": null,
            "left": null,
            "margin": null,
            "max_height": null,
            "max_width": null,
            "min_height": null,
            "min_width": null,
            "object_fit": null,
            "object_position": null,
            "order": null,
            "overflow": null,
            "overflow_x": null,
            "overflow_y": null,
            "padding": null,
            "right": null,
            "top": null,
            "visibility": null,
            "width": null
          }
        },
        "448785589ba046f095f52a98c9400c71": {
          "model_module": "@jupyter-widgets/controls",
          "model_name": "DescriptionStyleModel",
          "model_module_version": "1.5.0",
          "state": {
            "_model_module": "@jupyter-widgets/controls",
            "_model_module_version": "1.5.0",
            "_model_name": "DescriptionStyleModel",
            "_view_count": null,
            "_view_module": "@jupyter-widgets/base",
            "_view_module_version": "1.2.0",
            "_view_name": "StyleView",
            "description_width": ""
          }
        },
        "989a2e68bae5438e816d5b1a6645bef8": {
          "model_module": "@jupyter-widgets/controls",
          "model_name": "HBoxModel",
          "model_module_version": "1.5.0",
          "state": {
            "_dom_classes": [],
            "_model_module": "@jupyter-widgets/controls",
            "_model_module_version": "1.5.0",
            "_model_name": "HBoxModel",
            "_view_count": null,
            "_view_module": "@jupyter-widgets/controls",
            "_view_module_version": "1.5.0",
            "_view_name": "HBoxView",
            "box_style": "",
            "children": [
              "IPY_MODEL_135493dd5ce7467aa872aa87a9d955ec",
              "IPY_MODEL_a386812c154b4981a3453f936b9cafc2",
              "IPY_MODEL_a43725ecee544a6ab298cba91ea4d75e"
            ],
            "layout": "IPY_MODEL_48e3ce9fa4ce42538f1d2ad7cbd0dcf0"
          }
        },
        "135493dd5ce7467aa872aa87a9d955ec": {
          "model_module": "@jupyter-widgets/controls",
          "model_name": "HTMLModel",
          "model_module_version": "1.5.0",
          "state": {
            "_dom_classes": [],
            "_model_module": "@jupyter-widgets/controls",
            "_model_module_version": "1.5.0",
            "_model_name": "HTMLModel",
            "_view_count": null,
            "_view_module": "@jupyter-widgets/controls",
            "_view_module_version": "1.5.0",
            "_view_name": "HTMLView",
            "description": "",
            "description_tooltip": null,
            "layout": "IPY_MODEL_573c0a762b124bbeb9b1c3224cf4090e",
            "placeholder": "​",
            "style": "IPY_MODEL_8de3c76b33484497b9ea62292993b084",
            "value": "tokenizer.json: 100%"
          }
        },
        "a386812c154b4981a3453f936b9cafc2": {
          "model_module": "@jupyter-widgets/controls",
          "model_name": "FloatProgressModel",
          "model_module_version": "1.5.0",
          "state": {
            "_dom_classes": [],
            "_model_module": "@jupyter-widgets/controls",
            "_model_module_version": "1.5.0",
            "_model_name": "FloatProgressModel",
            "_view_count": null,
            "_view_module": "@jupyter-widgets/controls",
            "_view_module_version": "1.5.0",
            "_view_name": "ProgressView",
            "bar_style": "success",
            "description": "",
            "description_tooltip": null,
            "layout": "IPY_MODEL_3c535f2aed5949e0817461c86f0f8fc8",
            "max": 435797,
            "min": 0,
            "orientation": "horizontal",
            "style": "IPY_MODEL_4989fc8189c2461baf390673b2d7de4e",
            "value": 435797
          }
        },
        "a43725ecee544a6ab298cba91ea4d75e": {
          "model_module": "@jupyter-widgets/controls",
          "model_name": "HTMLModel",
          "model_module_version": "1.5.0",
          "state": {
            "_dom_classes": [],
            "_model_module": "@jupyter-widgets/controls",
            "_model_module_version": "1.5.0",
            "_model_name": "HTMLModel",
            "_view_count": null,
            "_view_module": "@jupyter-widgets/controls",
            "_view_module_version": "1.5.0",
            "_view_name": "HTMLView",
            "description": "",
            "description_tooltip": null,
            "layout": "IPY_MODEL_fa74fe49f6d746318f60560baa62aa30",
            "placeholder": "​",
            "style": "IPY_MODEL_ec5ecae098b94c9ab6b74ad5197092d0",
            "value": " 436k/436k [00:00&lt;00:00, 2.94MB/s]"
          }
        },
        "48e3ce9fa4ce42538f1d2ad7cbd0dcf0": {
          "model_module": "@jupyter-widgets/base",
          "model_name": "LayoutModel",
          "model_module_version": "1.2.0",
          "state": {
            "_model_module": "@jupyter-widgets/base",
            "_model_module_version": "1.2.0",
            "_model_name": "LayoutModel",
            "_view_count": null,
            "_view_module": "@jupyter-widgets/base",
            "_view_module_version": "1.2.0",
            "_view_name": "LayoutView",
            "align_content": null,
            "align_items": null,
            "align_self": null,
            "border": null,
            "bottom": null,
            "display": null,
            "flex": null,
            "flex_flow": null,
            "grid_area": null,
            "grid_auto_columns": null,
            "grid_auto_flow": null,
            "grid_auto_rows": null,
            "grid_column": null,
            "grid_gap": null,
            "grid_row": null,
            "grid_template_areas": null,
            "grid_template_columns": null,
            "grid_template_rows": null,
            "height": null,
            "justify_content": null,
            "justify_items": null,
            "left": null,
            "margin": null,
            "max_height": null,
            "max_width": null,
            "min_height": null,
            "min_width": null,
            "object_fit": null,
            "object_position": null,
            "order": null,
            "overflow": null,
            "overflow_x": null,
            "overflow_y": null,
            "padding": null,
            "right": null,
            "top": null,
            "visibility": null,
            "width": null
          }
        },
        "573c0a762b124bbeb9b1c3224cf4090e": {
          "model_module": "@jupyter-widgets/base",
          "model_name": "LayoutModel",
          "model_module_version": "1.2.0",
          "state": {
            "_model_module": "@jupyter-widgets/base",
            "_model_module_version": "1.2.0",
            "_model_name": "LayoutModel",
            "_view_count": null,
            "_view_module": "@jupyter-widgets/base",
            "_view_module_version": "1.2.0",
            "_view_name": "LayoutView",
            "align_content": null,
            "align_items": null,
            "align_self": null,
            "border": null,
            "bottom": null,
            "display": null,
            "flex": null,
            "flex_flow": null,
            "grid_area": null,
            "grid_auto_columns": null,
            "grid_auto_flow": null,
            "grid_auto_rows": null,
            "grid_column": null,
            "grid_gap": null,
            "grid_row": null,
            "grid_template_areas": null,
            "grid_template_columns": null,
            "grid_template_rows": null,
            "height": null,
            "justify_content": null,
            "justify_items": null,
            "left": null,
            "margin": null,
            "max_height": null,
            "max_width": null,
            "min_height": null,
            "min_width": null,
            "object_fit": null,
            "object_position": null,
            "order": null,
            "overflow": null,
            "overflow_x": null,
            "overflow_y": null,
            "padding": null,
            "right": null,
            "top": null,
            "visibility": null,
            "width": null
          }
        },
        "8de3c76b33484497b9ea62292993b084": {
          "model_module": "@jupyter-widgets/controls",
          "model_name": "DescriptionStyleModel",
          "model_module_version": "1.5.0",
          "state": {
            "_model_module": "@jupyter-widgets/controls",
            "_model_module_version": "1.5.0",
            "_model_name": "DescriptionStyleModel",
            "_view_count": null,
            "_view_module": "@jupyter-widgets/base",
            "_view_module_version": "1.2.0",
            "_view_name": "StyleView",
            "description_width": ""
          }
        },
        "3c535f2aed5949e0817461c86f0f8fc8": {
          "model_module": "@jupyter-widgets/base",
          "model_name": "LayoutModel",
          "model_module_version": "1.2.0",
          "state": {
            "_model_module": "@jupyter-widgets/base",
            "_model_module_version": "1.2.0",
            "_model_name": "LayoutModel",
            "_view_count": null,
            "_view_module": "@jupyter-widgets/base",
            "_view_module_version": "1.2.0",
            "_view_name": "LayoutView",
            "align_content": null,
            "align_items": null,
            "align_self": null,
            "border": null,
            "bottom": null,
            "display": null,
            "flex": null,
            "flex_flow": null,
            "grid_area": null,
            "grid_auto_columns": null,
            "grid_auto_flow": null,
            "grid_auto_rows": null,
            "grid_column": null,
            "grid_gap": null,
            "grid_row": null,
            "grid_template_areas": null,
            "grid_template_columns": null,
            "grid_template_rows": null,
            "height": null,
            "justify_content": null,
            "justify_items": null,
            "left": null,
            "margin": null,
            "max_height": null,
            "max_width": null,
            "min_height": null,
            "min_width": null,
            "object_fit": null,
            "object_position": null,
            "order": null,
            "overflow": null,
            "overflow_x": null,
            "overflow_y": null,
            "padding": null,
            "right": null,
            "top": null,
            "visibility": null,
            "width": null
          }
        },
        "4989fc8189c2461baf390673b2d7de4e": {
          "model_module": "@jupyter-widgets/controls",
          "model_name": "ProgressStyleModel",
          "model_module_version": "1.5.0",
          "state": {
            "_model_module": "@jupyter-widgets/controls",
            "_model_module_version": "1.5.0",
            "_model_name": "ProgressStyleModel",
            "_view_count": null,
            "_view_module": "@jupyter-widgets/base",
            "_view_module_version": "1.2.0",
            "_view_name": "StyleView",
            "bar_color": null,
            "description_width": ""
          }
        },
        "fa74fe49f6d746318f60560baa62aa30": {
          "model_module": "@jupyter-widgets/base",
          "model_name": "LayoutModel",
          "model_module_version": "1.2.0",
          "state": {
            "_model_module": "@jupyter-widgets/base",
            "_model_module_version": "1.2.0",
            "_model_name": "LayoutModel",
            "_view_count": null,
            "_view_module": "@jupyter-widgets/base",
            "_view_module_version": "1.2.0",
            "_view_name": "LayoutView",
            "align_content": null,
            "align_items": null,
            "align_self": null,
            "border": null,
            "bottom": null,
            "display": null,
            "flex": null,
            "flex_flow": null,
            "grid_area": null,
            "grid_auto_columns": null,
            "grid_auto_flow": null,
            "grid_auto_rows": null,
            "grid_column": null,
            "grid_gap": null,
            "grid_row": null,
            "grid_template_areas": null,
            "grid_template_columns": null,
            "grid_template_rows": null,
            "height": null,
            "justify_content": null,
            "justify_items": null,
            "left": null,
            "margin": null,
            "max_height": null,
            "max_width": null,
            "min_height": null,
            "min_width": null,
            "object_fit": null,
            "object_position": null,
            "order": null,
            "overflow": null,
            "overflow_x": null,
            "overflow_y": null,
            "padding": null,
            "right": null,
            "top": null,
            "visibility": null,
            "width": null
          }
        },
        "ec5ecae098b94c9ab6b74ad5197092d0": {
          "model_module": "@jupyter-widgets/controls",
          "model_name": "DescriptionStyleModel",
          "model_module_version": "1.5.0",
          "state": {
            "_model_module": "@jupyter-widgets/controls",
            "_model_module_version": "1.5.0",
            "_model_name": "DescriptionStyleModel",
            "_view_count": null,
            "_view_module": "@jupyter-widgets/base",
            "_view_module_version": "1.2.0",
            "_view_name": "StyleView",
            "description_width": ""
          }
        }
      }
    }
  },
  "cells": [
    {
      "cell_type": "markdown",
      "source": [
        "## **Behind the pipeline**\n",
        "\n",
        "This pipeline groups together three steps: preprocessing, passing the inputs through the model, and postprocessing:"
      ],
      "metadata": {
        "id": "FJy4J3V0Vjap"
      }
    },
    {
      "cell_type": "code",
      "execution_count": 3,
      "metadata": {
        "id": "TC6j8b5oZM4G",
        "colab": {
          "base_uri": "https://localhost:8080/",
          "height": 254,
          "referenced_widgets": [
            "9701047922a64cf2bcbeb2650b9fecb7",
            "569644f05c9e424ca0ab8b5227a2b229",
            "183ab45b3e37448993a0ce217dee89fa",
            "0a08e7af0d79486588ca0bd3eb407ea4",
            "1bbaa8c6151649a2a687e74213fffd66",
            "ec6765817cae4d0b847b4e99425f7733",
            "411a692ac0a14b7aa3c9929e05aa5955",
            "f85f0e21493543c798caf43605598d0a",
            "177629ed83ae4e5ba018ca4048bd9dc3",
            "523593d9c274491fb5a1d63a59e58ef5",
            "39cc72bd18dd443a80370c8b457596ce",
            "6fd914a9ee37484a8541db888127d89d",
            "6236404d92a7473290ae06979f9d7369",
            "1c9c80d983404e978cd1e5eb54bc037b",
            "e56f074cd20042369a6c7b0ed33a1037",
            "b0345aeeca0b46c0aad919119d858bcb",
            "adcd774f6d494c968257450962bd7053",
            "7b42099af0624451b4adabeb97292d0d",
            "1d3cc13aab4d4a41b3e312b39f7d32f9",
            "38ad3ab6885b42ea853eacaf4df9ef3d",
            "5eedca7581e64497a6a00f501535afdd",
            "9d0453eb09bc47fdb2623b739e096589",
            "971ed02be4f64166ba15f87866895fc6",
            "a8df605ee3184d409560482f6b00a078",
            "3b5faa3d9a0449e59ee64cf37fa9c0f6",
            "210274084a81402589498082cf196d59",
            "f3fe2e8be92c4ad6ba623effe232ad60",
            "66938e3d1851434091090b8b1806087a",
            "3ed06aa9de4a47a2bd0c10ff2bfbf65c",
            "e02e9820a2bf43199d8d904484f91f82",
            "c6d4d7fc2af04e398049135ca847d8d3",
            "b62639cde92f4e99a5e58521040568e9",
            "e4b6b9b86c4c432eb65a36767bed2764",
            "aaed1d95b4c8476ca430c06698d902a8",
            "c0edf9e2df76400188969a2953a4c994",
            "b09c8d3cc211401caa01f5c0b98a6cb5",
            "edc1003c76c147b4bdcb9548c757f88e",
            "6de65aa8662845fe93af1d46e9887eb1",
            "572c703a15b64cd4b0ec0f8882b8fb21",
            "dd82f229f0c54197a6a5f89fc5d28173",
            "0cb0b76f970b4939bd31630d4ed53739",
            "51b24bd574ed4dbe9dbccdafb67f3f08",
            "b014c61dbba34863a21f53e4e981b05f",
            "33e4673dd1e54a4ebf53aacf1bc35375"
          ]
        },
        "outputId": "1fb7715a-df5f-46a4-bb67-fba901546ceb"
      },
      "outputs": [
        {
          "output_type": "stream",
          "name": "stderr",
          "text": [
            "No model was supplied, defaulted to distilbert/distilbert-base-uncased-finetuned-sst-2-english and revision 714eb0f (https://huggingface.co/distilbert/distilbert-base-uncased-finetuned-sst-2-english).\n",
            "Using a pipeline without specifying a model name and revision in production is not recommended.\n"
          ]
        },
        {
          "output_type": "display_data",
          "data": {
            "text/plain": [
              "config.json:   0%|          | 0.00/629 [00:00<?, ?B/s]"
            ],
            "application/vnd.jupyter.widget-view+json": {
              "version_major": 2,
              "version_minor": 0,
              "model_id": "9701047922a64cf2bcbeb2650b9fecb7"
            }
          },
          "metadata": {}
        },
        {
          "output_type": "display_data",
          "data": {
            "text/plain": [
              "model.safetensors:   0%|          | 0.00/268M [00:00<?, ?B/s]"
            ],
            "application/vnd.jupyter.widget-view+json": {
              "version_major": 2,
              "version_minor": 0,
              "model_id": "6fd914a9ee37484a8541db888127d89d"
            }
          },
          "metadata": {}
        },
        {
          "output_type": "display_data",
          "data": {
            "text/plain": [
              "tokenizer_config.json:   0%|          | 0.00/48.0 [00:00<?, ?B/s]"
            ],
            "application/vnd.jupyter.widget-view+json": {
              "version_major": 2,
              "version_minor": 0,
              "model_id": "971ed02be4f64166ba15f87866895fc6"
            }
          },
          "metadata": {}
        },
        {
          "output_type": "display_data",
          "data": {
            "text/plain": [
              "vocab.txt:   0%|          | 0.00/232k [00:00<?, ?B/s]"
            ],
            "application/vnd.jupyter.widget-view+json": {
              "version_major": 2,
              "version_minor": 0,
              "model_id": "aaed1d95b4c8476ca430c06698d902a8"
            }
          },
          "metadata": {}
        },
        {
          "output_type": "stream",
          "name": "stderr",
          "text": [
            "Device set to use cpu\n"
          ]
        },
        {
          "output_type": "execute_result",
          "data": {
            "text/plain": [
              "[{'label': 'POSITIVE', 'score': 0.9909998774528503},\n",
              " {'label': 'POSITIVE', 'score': 0.9997718930244446}]"
            ]
          },
          "metadata": {},
          "execution_count": 3
        }
      ],
      "source": [
        "import warnings\n",
        "warnings.filterwarnings('ignore')\n",
        "\n",
        "from transformers import pipeline\n",
        "\n",
        "sentiment = pipeline('sentiment-analysis')\n",
        "\n",
        "sentiment([\n",
        "    'Hi, I am happy becuase i am feeling sad.',\n",
        "    'Hi, I am sad becuase i am happy.'\n",
        "    ])"
      ]
    },
    {
      "cell_type": "markdown",
      "source": [
        "![image.png](data:image/png;base64,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)"
      ],
      "metadata": {
        "id": "C8ncrh-IWnyb"
      }
    },
    {
      "cell_type": "markdown",
      "source": [
        "### **1. Preprocessing with a tokenizer**\n",
        "\n",
        "Transformer models can’t process raw text directly, so the first step of our pipeline is to convert the text inputs into numbers that the model can make sense of. To do this we use a **tokenizer**.\n",
        "\n",
        "1. Splitting the input into words, subwords, or symbols (like punctuation) that are called **tokens**\n",
        "2. Mapping each token to an integer\n",
        "3. Adding additional inputs that may be useful to the model"
      ],
      "metadata": {
        "id": "_ZYRIrZ9Xa7R"
      }
    },
    {
      "cell_type": "markdown",
      "source": [
        "All this **preprocessing** needs to be done in exactly **the same way as when the model was pretrained**, so we first need to download that information from the [Model Hub](https://huggingface.co/distilbert/distilbert-base-uncased-finetuned-sst-2-english)."
      ],
      "metadata": {
        "id": "4awIVg_OZcFW"
      }
    },
    {
      "cell_type": "markdown",
      "source": [
        "we use the **AutoTokenizer** class and its **from_pretrained**() method.\n",
        "Using the **checkpoint** name of our model, it will automatically fetch the data associated with the **model’s tokenizer** and cache it (so it’s only downloaded the first time you run the code below).\n",
        "\n",
        "Checkpoint - Here we are using word checkpoint because checkpoint is saved state of the model's weights, architecture, and optimizer state at a specific training step.\n",
        "\n",
        "What ever the initial condition of our model, we are taking as checkpoint.\n",
        "\n",
        "Since the default checkpoint of the sentiment-analysis pipeline is **distilbert-base-uncased-finetuned-sst-2-english**"
      ],
      "metadata": {
        "id": "xgJoB5pnaANg"
      }
    },
    {
      "cell_type": "code",
      "source": [
        "from transformers import AutoTokenizer\n",
        "\n",
        "checkpoint = 'distilbert-base-uncased-finetuned-sst-2-english'\n",
        "\n",
        "tokenizer = AutoTokenizer.from_pretrained(checkpoint)\n"
      ],
      "metadata": {
        "id": "Cx50YREKWRkf"
      },
      "execution_count": 4,
      "outputs": []
    },
    {
      "cell_type": "markdown",
      "source": [
        "Once we have the tokenizer, we can directly pass our sentences to it and we’ll get back a dictionary that’s ready to feed to our model! **The only thing left to do is to convert the list of input IDs to tensors**."
      ],
      "metadata": {
        "id": "E6R0iAQddA3Q"
      }
    },
    {
      "cell_type": "markdown",
      "source": [
        "You can use 🤗 Transformers without having to worry about which ML framework is used as a backend; it might be PyTorch or TensorFlow, or Flax for some models. However, Transformer models only **accept tensors** as input.\n",
        "\n",
        "**What is Tensor?**\n",
        "\n",
        "A tensor is a multi-dimensional array, similar to a NumPy array, but optimized for deep learning. It is the core data structure used in ML frameworks like PyTorch, TensorFlow, and JAX.\n",
        "\n",
        "Think of tensors as:\n",
        "```\n",
        "✅ Scalars (0D) → Single numbers (e.g., 5).\n",
        "✅ Vectors (1D) → A list of numbers (e.g., [1, 2, 3]).\n",
        "✅ Matrices (2D) → A grid of numbers (e.g., [[1, 2], [3, 4]]).\n",
        "✅ Higher Dimensions (3D, 4D, etc.) → Used for complex data like images\n",
        "or NLP inputs.\n",
        "```\n",
        "\n",
        "```python\n",
        "# Example in Pytorch\n",
        "import torch\n",
        "\n",
        "# Creating a tensor\n",
        "tensor = torch.tensor([[1, 2], [3, 4]])\n",
        "print(tensor)\n",
        "```\n",
        "Output:\n",
        "```\n",
        "tensor([[1, 2],\n",
        "        [3, 4]])\n",
        "```\n",
        "\n",
        "**How Transformers Use Tensors?**\n",
        "\n",
        "Since models only accept tensors, when you tokenize text using Hugging Face Transformers, the output is converted into tensor format automatically."
      ],
      "metadata": {
        "id": "cBPeEHlddOoz"
      }
    },
    {
      "cell_type": "code",
      "source": [
        "# Example in Pytorch\n",
        "import torch\n",
        "\n",
        "# Creating a tensor\n",
        "tensor = torch.tensor([[1, 2], [3, 4]])\n",
        "print(tensor)"
      ],
      "metadata": {
        "colab": {
          "base_uri": "https://localhost:8080/"
        },
        "id": "WZpq8ITnbebR",
        "outputId": "f6de6476-4cd3-4e37-e3bf-2c399289e56c"
      },
      "execution_count": 5,
      "outputs": [
        {
          "output_type": "stream",
          "name": "stdout",
          "text": [
            "tensor([[1, 2],\n",
            "        [3, 4]])\n"
          ]
        }
      ]
    },
    {
      "cell_type": "code",
      "source": [
        "raw_inputs = [\n",
        "    \"I've been waiting for a HuggingFace course my whole life.\",\n",
        "    \"I hate this so much!\",\n",
        "]\n",
        "inputs = tokenizer(raw_inputs, padding=True, truncation=True, return_tensors=\"tf\") # Here tf means tensorflow tensor\n",
        "print(inputs)"
      ],
      "metadata": {
        "colab": {
          "base_uri": "https://localhost:8080/"
        },
        "id": "_jJOz5r7d7BP",
        "outputId": "7cdc1615-9be1-4dd0-a651-228ae5cea6d7"
      },
      "execution_count": 6,
      "outputs": [
        {
          "output_type": "stream",
          "name": "stdout",
          "text": [
            "{'input_ids': <tf.Tensor: shape=(2, 16), dtype=int32, numpy=\n",
            "array([[  101,  1045,  1005,  2310,  2042,  3403,  2005,  1037, 17662,\n",
            "        12172,  2607,  2026,  2878,  2166,  1012,   102],\n",
            "       [  101,  1045,  5223,  2023,  2061,  2172,   999,   102,     0,\n",
            "            0,     0,     0,     0,     0,     0,     0]], dtype=int32)>, 'attention_mask': <tf.Tensor: shape=(2, 16), dtype=int32, numpy=\n",
            "array([[1, 1, 1, 1, 1, 1, 1, 1, 1, 1, 1, 1, 1, 1, 1, 1],\n",
            "       [1, 1, 1, 1, 1, 1, 1, 1, 0, 0, 0, 0, 0, 0, 0, 0]], dtype=int32)>}\n"
          ]
        }
      ]
    },
    {
      "cell_type": "markdown",
      "source": [
        "The output itself is a dictionary containing two keys, **input_ids** and **attention_mask**. input_ids contains two rows of integers (one for each sentence) that are the unique identifiers of the tokens in each sentence."
      ],
      "metadata": {
        "id": "hsuH3J8ieswe"
      }
    },
    {
      "cell_type": "markdown",
      "source": [
        "### **2. Going through the model**\n",
        "\n",
        "We can download our pretrained model the same way we did with our tokenizer. 🤗 Transformers provides an TFAutoModel class which also has a from_pretrained method."
      ],
      "metadata": {
        "id": "3rnXR4HthZsJ"
      }
    },
    {
      "cell_type": "code",
      "source": [
        "from transformers import TFAutoModel\n",
        "\n",
        "checkpoint = \"distilbert-base-uncased-finetuned-sst-2-english\"\n",
        "model = TFAutoModel.from_pretrained(checkpoint)"
      ],
      "metadata": {
        "colab": {
          "base_uri": "https://localhost:8080/"
        },
        "id": "L05smwH8eZFm",
        "outputId": "15f28686-b5fa-43dc-ac36-897ae974606a"
      },
      "execution_count": 7,
      "outputs": [
        {
          "output_type": "stream",
          "name": "stderr",
          "text": [
            "Some weights of the PyTorch model were not used when initializing the TF 2.0 model TFDistilBertModel: ['pre_classifier.bias', 'pre_classifier.weight', 'classifier.bias', 'classifier.weight']\n",
            "- This IS expected if you are initializing TFDistilBertModel from a PyTorch model trained on another task or with another architecture (e.g. initializing a TFBertForSequenceClassification model from a BertForPreTraining model).\n",
            "- This IS NOT expected if you are initializing TFDistilBertModel from a PyTorch model that you expect to be exactly identical (e.g. initializing a TFBertForSequenceClassification model from a BertForSequenceClassification model).\n",
            "All the weights of TFDistilBertModel were initialized from the PyTorch model.\n",
            "If your task is similar to the task the model of the checkpoint was trained on, you can already use TFDistilBertModel for predictions without further training.\n"
          ]
        }
      ]
    },
    {
      "cell_type": "markdown",
      "source": [
        "**What Does TFAutoModel.from_pretrained(checkpoint) Do?**\n",
        "\n",
        "1. Downloads the model checkpoint (DistilBERT fine-tuned on SST-2).\n",
        "3. Loads only the base Transformer model (without a task-specific head).\n",
        "3. Outputs hidden states (features) instead of final predictions.\n",
        "\n",
        "Since task specific head is not available. So it will return hiddent states or we can say features.\n",
        "\n",
        "**While these hidden states can be useful on their own, they’re usually inputs to another part of the model, known as the head.**"
      ],
      "metadata": {
        "id": "NCSX91k7pdzN"
      }
    },
    {
      "cell_type": "markdown",
      "source": [
        "**A high-dimensional vector?**\n",
        "\n",
        "The vector output by the Transformer module is usually large. It generally has three dimensions:\n",
        "\n",
        "1. Batch size: The number of sequences processed at a time (2 in our example).\n",
        "2. Sequence length: The length of the numerical representation of the sequence (16 in our example).\n",
        "3. Hidden size: The vector dimension of each model input.\n",
        "\n",
        "\n",
        "It is said to be “high dimensional” because of the last value. The hidden size can be very large (768 is common for smaller models, and in larger models this can reach 3072 or more)."
      ],
      "metadata": {
        "id": "cWfMeZw0sxzC"
      }
    },
    {
      "cell_type": "code",
      "source": [
        "# Passing our input token to model\n",
        "\n",
        "outputs = model(inputs)\n",
        "print(outputs.last_hidden_state.shape)"
      ],
      "metadata": {
        "colab": {
          "base_uri": "https://localhost:8080/"
        },
        "id": "p4oPiOCdiK5r",
        "outputId": "e81a095a-12cd-4f7b-a2b9-7e65c5db9d36"
      },
      "execution_count": 8,
      "outputs": [
        {
          "output_type": "stream",
          "name": "stdout",
          "text": [
            "(2, 16, 768)\n"
          ]
        }
      ]
    },
    {
      "cell_type": "markdown",
      "source": [
        "```\n",
        "Batch Size - 2\n",
        "Sequence Lenght - 16\n",
        "Hidden size - 768\n",
        "```\n",
        "\n",
        "Note that the outputs of 🤗 Transformers models behave like namedtuples or dictionaries. You can access the elements by attributes (like we did) or by key (**outputs[\"last_hidden_state\"]**), or even by **index** if you know exactly where the thing you are looking for is (**outputs[0]**)."
      ],
      "metadata": {
        "id": "dxZSjOPTtD4U"
      }
    },
    {
      "cell_type": "markdown",
      "source": [
        "### **3. Model heads: Making sense out of numbers**\n",
        "\n",
        "The model heads take the high-dimensional vector of hidden states as input and project them onto a different dimension. They are usually composed of one or a few linear layers.\n",
        "\n",
        "The output of the Transformer model is sent directly to the model head to be processed."
      ],
      "metadata": {
        "id": "DBN3vqTptb4v"
      }
    },
    {
      "cell_type": "markdown",
      "source": [
        "![image.png](data:image/png;base64,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)"
      ],
      "metadata": {
        "id": "bLtO9NDttxYS"
      }
    },
    {
      "cell_type": "markdown",
      "source": [
        "In this diagram, the model is represented by its **embeddings layer** and the **subsequent layers**. The embeddings layer converts each input ID in the tokenized input into a vector that represents the associated token. The subsequent layers manipulate those vectors using the **attention mechanism** to produce the final representation of the sentences."
      ],
      "metadata": {
        "id": "-NBPrzO1uDzz"
      }
    },
    {
      "cell_type": "markdown",
      "source": [
        "There are many different architectures available in 🤗 Transformers, with each one designed around tackling a specific task."
      ],
      "metadata": {
        "id": "kcCv7IqruWtv"
      }
    },
    {
      "cell_type": "markdown",
      "source": [
        "* Model (retrieve the hidden states)\n",
        "* ForCausalLM\n",
        "* ForMaskedLM\n",
        "* ForMultipleChoice\n",
        "* ForQuestionAnswering\n",
        "* ForSequenceClassification\n",
        "* ForTokenClassification\n",
        "* etc."
      ],
      "metadata": {
        "id": "3IlcZzUruatS"
      }
    },
    {
      "cell_type": "markdown",
      "source": [
        "For our example, we will need a model with a sequence classification head (to be able to classify the sentences as positive or negative). So, we won’t actually use the TFAutoModel class, but **TFAutoModelForSequenceClassification**."
      ],
      "metadata": {
        "id": "byzwRjDmvCBh"
      }
    },
    {
      "cell_type": "code",
      "source": [
        "from transformers import TFAutoModelForSequenceClassification\n",
        "\n",
        "checkpoint = \"distilbert-base-uncased-finetuned-sst-2-english\"\n",
        "model = TFAutoModelForSequenceClassification.from_pretrained(checkpoint)\n",
        "outputs = model(inputs)"
      ],
      "metadata": {
        "colab": {
          "base_uri": "https://localhost:8080/"
        },
        "id": "m5kZm3pHtBKb",
        "outputId": "588117ac-8f4d-4e5e-d42a-3dc9d80cb707"
      },
      "execution_count": 9,
      "outputs": [
        {
          "output_type": "stream",
          "name": "stderr",
          "text": [
            "All PyTorch model weights were used when initializing TFDistilBertForSequenceClassification.\n",
            "\n",
            "All the weights of TFDistilBertForSequenceClassification were initialized from the PyTorch model.\n",
            "If your task is similar to the task the model of the checkpoint was trained on, you can already use TFDistilBertForSequenceClassification for predictions without further training.\n"
          ]
        }
      ]
    },
    {
      "cell_type": "code",
      "source": [
        "print(outputs.logits.shape)"
      ],
      "metadata": {
        "colab": {
          "base_uri": "https://localhost:8080/"
        },
        "id": "dQ-KKIgkyi4b",
        "outputId": "329edb7e-a7c0-4866-96d2-371cdf8f383e"
      },
      "execution_count": 10,
      "outputs": [
        {
          "output_type": "stream",
          "name": "stdout",
          "text": [
            "(2, 2)\n"
          ]
        }
      ]
    },
    {
      "cell_type": "markdown",
      "source": [
        "Now if we look at the shape of our outputs, the dimensionality will be much lower: the model head takes as input the high-dimensional vectors we saw before, and outputs vectors containing two values (one per label):\n",
        "\n",
        "**Since we have just two sentences and two labels, the result we get from our model is of shape 2 x 2.**"
      ],
      "metadata": {
        "id": "095YoKWDyOPN"
      }
    },
    {
      "cell_type": "markdown",
      "source": [
        "### **4. Postprocessing the output**\n",
        "\n",
        "The values we get as output from our model don’t necessarily make sense by themselves. Let’s take a look:"
      ],
      "metadata": {
        "id": "FT7kw1yryV-n"
      }
    },
    {
      "cell_type": "code",
      "source": [
        "print(outputs.logits)"
      ],
      "metadata": {
        "colab": {
          "base_uri": "https://localhost:8080/"
        },
        "id": "zf1xkEucv9KG",
        "outputId": "e1350f98-27eb-4175-a380-89aba7872222"
      },
      "execution_count": 11,
      "outputs": [
        {
          "output_type": "stream",
          "name": "stdout",
          "text": [
            "tf.Tensor(\n",
            "[[-1.5606961  1.6122813]\n",
            " [ 4.1692314 -3.3464477]], shape=(2, 2), dtype=float32)\n"
          ]
        }
      ]
    },
    {
      "cell_type": "markdown",
      "source": [
        "Our model predicted [-1.5607, 1.6123] for the first sentence and [ 4.1692, -3.3464] for the second one. Those are not probabilities but logits, the raw, unnormalized scores outputted by the last layer of the model.\n",
        "\n",
        "To be converted to probabilities, they need to go through a SoftMax layer (all 🤗 Transformers models output the logits, as the loss function for training will generally fuse the last activation function, such as SoftMax, with the actual loss function, such as cross entropy):"
      ],
      "metadata": {
        "id": "SkABxhLyytQu"
      }
    },
    {
      "cell_type": "code",
      "source": [
        "import tensorflow as tf\n",
        "\n",
        "predictions = tf.math.softmax(outputs.logits, axis = -1)\n",
        "\n",
        "print(predictions)"
      ],
      "metadata": {
        "colab": {
          "base_uri": "https://localhost:8080/"
        },
        "id": "iZbnXAr5yfgD",
        "outputId": "b2716da4-32ec-4d63-a43c-df6068f6ca07"
      },
      "execution_count": 12,
      "outputs": [
        {
          "output_type": "stream",
          "name": "stdout",
          "text": [
            "tf.Tensor(\n",
            "[[4.0195391e-02 9.5980465e-01]\n",
            " [9.9945587e-01 5.4418371e-04]], shape=(2, 2), dtype=float32)\n"
          ]
        }
      ]
    },
    {
      "cell_type": "markdown",
      "source": [
        "Now we can see that the model predicted **[0.0402, 0.9598]** for the first sentence and **[0.9995, 0.0005]** for the second one. **These are recognizable probability scores.**\n",
        "\n",
        "To get the labels corresponding to each position, we can inspect the id2label attribute of the model config"
      ],
      "metadata": {
        "id": "sdRFU3hVzQ0L"
      }
    },
    {
      "cell_type": "code",
      "source": [
        "model.config.id2label"
      ],
      "metadata": {
        "colab": {
          "base_uri": "https://localhost:8080/"
        },
        "id": "RuzVO-b_zJUK",
        "outputId": "2e58ffd4-054f-40bf-81c7-76a2e8d08061"
      },
      "execution_count": 13,
      "outputs": [
        {
          "output_type": "execute_result",
          "data": {
            "text/plain": [
              "{0: 'NEGATIVE', 1: 'POSITIVE'}"
            ]
          },
          "metadata": {},
          "execution_count": 13
        }
      ]
    },
    {
      "cell_type": "markdown",
      "source": [
        "While comparing above result with label, we can say that,\n",
        "\n",
        "```\n",
        "First sentence: NEGATIVE: 0.0402, POSITIVE: 0.9598\n",
        "Second sentence: NEGATIVE: 0.9995, POSITIVE: 0.0005\n",
        "```"
      ],
      "metadata": {
        "id": "Ia3uXfCtzgFk"
      }
    },
    {
      "cell_type": "markdown",
      "source": [
        "We have successfully reproduced the three steps of the pipeline: preprocessing with tokenizers, passing the inputs through the model, and postprocessing! Now let’s take some time to dive deeper into each of those steps."
      ],
      "metadata": {
        "id": "fPOWmLFpzzCF"
      }
    },
    {
      "cell_type": "markdown",
      "source": [
        "## **Models**"
      ],
      "metadata": {
        "id": "9ncjy4ex9RN4"
      }
    },
    {
      "cell_type": "markdown",
      "source": [
        "we’ll take a closer look at creating and using a model. We’ll use the AutoModel class, which is handy when you want to instantiate any model from a checkpoint.\n",
        "\n",
        "The AutoModel class and all of its relatives are actually simple wrappers over the wide variety of models available in the library. It’s a clever wrapper as it can automatically guess the appropriate model architecture for your checkpoint, and then instantiates a model with this architecture.\n",
        "\n",
        "In the Hugging Face Transformers library, AutoModel is like a smart helper. It automatically picks the right type of model for you, based on the checkpoint (which is a saved version of a pretrained model).\n",
        "\n",
        "1. A wrapper is something that simplifies how you use a more complex thing.\n",
        "2. AutoModel and its relatives (like AutoModelForSequenceClassification, AutoTokenizer, etc.) wrap around all the specific model classes like BertModel, RobertaModel, GPT2Model, etc.\n",
        "3. Instead of you having to know and import the exact model class, AutoModel figures it out for you."
      ],
      "metadata": {
        "id": "Omw_15qnnl0t"
      }
    },
    {
      "cell_type": "markdown",
      "source": [
        "### **1. Creating a Transformer**\n",
        "\n",
        "The first thing we’ll need to do to initialize a BERT model is load a configuration object:"
      ],
      "metadata": {
        "id": "B_t50FRkohKU"
      }
    },
    {
      "cell_type": "code",
      "source": [
        "from transformers import BertConfig, BertModel\n",
        "\n",
        "# Building the config\n",
        "config = BertConfig()\n",
        "\n",
        "# Building Model with Config\n",
        "\n",
        "model = BertModel(config)\n"
      ],
      "metadata": {
        "id": "0fxem7UQzepE"
      },
      "execution_count": 14,
      "outputs": []
    },
    {
      "cell_type": "code",
      "source": [
        "print(config)"
      ],
      "metadata": {
        "colab": {
          "base_uri": "https://localhost:8080/"
        },
        "id": "5T7Vj8MSpIOr",
        "outputId": "93a8f9fd-2de1-4b32-bd75-14f7830d3294"
      },
      "execution_count": 15,
      "outputs": [
        {
          "output_type": "stream",
          "name": "stdout",
          "text": [
            "BertConfig {\n",
            "  \"_attn_implementation_autoset\": true,\n",
            "  \"attention_probs_dropout_prob\": 0.1,\n",
            "  \"classifier_dropout\": null,\n",
            "  \"hidden_act\": \"gelu\",\n",
            "  \"hidden_dropout_prob\": 0.1,\n",
            "  \"hidden_size\": 768,\n",
            "  \"initializer_range\": 0.02,\n",
            "  \"intermediate_size\": 3072,\n",
            "  \"layer_norm_eps\": 1e-12,\n",
            "  \"max_position_embeddings\": 512,\n",
            "  \"model_type\": \"bert\",\n",
            "  \"num_attention_heads\": 12,\n",
            "  \"num_hidden_layers\": 12,\n",
            "  \"pad_token_id\": 0,\n",
            "  \"position_embedding_type\": \"absolute\",\n",
            "  \"transformers_version\": \"4.48.3\",\n",
            "  \"type_vocab_size\": 2,\n",
            "  \"use_cache\": true,\n",
            "  \"vocab_size\": 30522\n",
            "}\n",
            "\n"
          ]
        }
      ]
    },
    {
      "cell_type": "markdown",
      "source": [
        "While you haven’t seen what all of these attributes do yet, you should recognize some of them: the **hidden_size** attribute defines the size of the **hidden_states** vector, and **num_hidden_layers** defines the number of layers the Transformer model has."
      ],
      "metadata": {
        "id": "uC26ba5opVAf"
      }
    },
    {
      "cell_type": "markdown",
      "source": [
        "### **2. Different loading methods**\n",
        "Creating a model from the default configuration initializes it with random values:"
      ],
      "metadata": {
        "id": "gPVT6eDkpo8y"
      }
    },
    {
      "cell_type": "code",
      "source": [
        "from transformers import BertConfig, BertModel\n",
        "\n",
        "config = BertConfig()\n",
        "model = BertModel(config)\n",
        "\n",
        "# Model is randomly initialized!"
      ],
      "metadata": {
        "id": "VZRLl5OrpLtT"
      },
      "execution_count": 16,
      "outputs": []
    },
    {
      "cell_type": "markdown",
      "source": [
        "The model can be used in this state, but it will **output gibberish**; it **needs to be trained first**. We **could train the model from scratch** on the task at hand, but as you saw earlier, this would **require a long time and a lot of data**, and it would have a non-negligible **environmental impact**. To avoid unnecessary and **duplicated effort**, it’s imperative to be able to share and reuse models that have already been trained."
      ],
      "metadata": {
        "id": "BWc1yrY7p4y2"
      }
    },
    {
      "cell_type": "markdown",
      "source": [
        "Loading a Transformer model that is already trained is simple — we can do this using the **from_pretrained()** method:"
      ],
      "metadata": {
        "id": "6AVe0ZKXqIPn"
      }
    },
    {
      "cell_type": "code",
      "source": [
        "from transformers import BertModel\n",
        "\n",
        "model = BertModel.from_pretrained(\"bert-base-cased\")"
      ],
      "metadata": {
        "colab": {
          "base_uri": "https://localhost:8080/",
          "height": 81,
          "referenced_widgets": [
            "905fe160731a4c358f092c84d085b5f3",
            "07076b044d824e509a35e2dbacdf7285",
            "d9eb3031f15941ce91751ecd2ef2cd87",
            "11f6216f26be4acea1d5349486de9a08",
            "2fca9053fddf4a0dba03dd523d0861db",
            "b210846272574eec82880f0e3977d90c",
            "2afe0087f3cf44e8aa2ed4af476f7190",
            "4d271914667e41fe9bdd7b0fc508367d",
            "fcb150906aec41268ea94ab76cea6b50",
            "7e46b066b13e4e35a87f1e20ff86bf0f",
            "e5bbec46b84544119b5aafa06997ec7b",
            "73bcb3eb21bb4139b3165207f9edee8c",
            "e17087f77e54458b9354fd7916869c8d",
            "012e5abf67104ee8ab0497818c0b1f28",
            "5c5a61573f4a480685792984c3c52b17",
            "90ae2d6339c24617a699ffff676cbbfe",
            "12d501d910f04c3f9b0647981b31cb32",
            "6a7ebeead2324d26ad904bea3968d7b9",
            "392940fb941d4b8d9257c88200312f00",
            "00f0c12c3f4949a58541d7652d029e10",
            "415c222394984ac2a55513d6545e0336",
            "18ea3f5cc257421fa62ffcd98a683e4b"
          ]
        },
        "id": "A4IXEviGpxNa",
        "outputId": "56a7e4e3-bfc5-4324-b13c-bcf74c12447f"
      },
      "execution_count": 17,
      "outputs": [
        {
          "output_type": "display_data",
          "data": {
            "text/plain": [
              "config.json:   0%|          | 0.00/570 [00:00<?, ?B/s]"
            ],
            "application/vnd.jupyter.widget-view+json": {
              "version_major": 2,
              "version_minor": 0,
              "model_id": "905fe160731a4c358f092c84d085b5f3"
            }
          },
          "metadata": {}
        },
        {
          "output_type": "display_data",
          "data": {
            "text/plain": [
              "model.safetensors:   0%|          | 0.00/436M [00:00<?, ?B/s]"
            ],
            "application/vnd.jupyter.widget-view+json": {
              "version_major": 2,
              "version_minor": 0,
              "model_id": "73bcb3eb21bb4139b3165207f9edee8c"
            }
          },
          "metadata": {}
        }
      ]
    },
    {
      "cell_type": "markdown",
      "source": [
        "This loads a **pretrained BERT model** with weights from the \"**bert-base-cased**\" checkpoint.\n",
        "\n",
        "It **skips** **manual** **configuration** (BertConfig) and loads everything automatically.\n",
        "\n",
        "Note: **You can replace BertModel with AutoModel like this:**\n",
        "\n",
        "Why? It makes your code **checkpoint-agnostic **— **it works with any model, not just BERT.**"
      ],
      "metadata": {
        "id": "wzDwq_ilq0d0"
      }
    },
    {
      "cell_type": "code",
      "source": [
        "from transformers import AutoModel\n",
        "\n",
        "model = AutoModel.from_pretrained(\"bert-base-cased\")"
      ],
      "metadata": {
        "id": "YvVSRnyYqOjH"
      },
      "execution_count": 18,
      "outputs": []
    },
    {
      "cell_type": "markdown",
      "source": [
        "📦 Where is the model saved?\n",
        "1. The weights are downloaded and cached locally `(default: ~/.cache/huggingface/transformers)`.\n",
        "2. You can change the cache location using the HF_HOME environment variable."
      ],
      "metadata": {
        "id": "iynBERWPrV8x"
      }
    },
    {
      "cell_type": "markdown",
      "source": [
        "You can also use other checkpoints from the [Hugging Face Model Hub](https://huggingface.co/models), as long as they are compatible with your task."
      ],
      "metadata": {
        "id": "e5OmolWUrtQc"
      }
    },
    {
      "cell_type": "markdown",
      "source": [
        "### **3. Saving Model Method**\n",
        "\n",
        "Saving a model is as easy as loading one — we use the save_pretrained() method, which is analogous to the from_pretrained() method:"
      ],
      "metadata": {
        "id": "q-43ZtURsTm8"
      }
    },
    {
      "cell_type": "code",
      "source": [
        "model.save_pretrained(\"directory_on_my_computer\")"
      ],
      "metadata": {
        "id": "X_CZQvx8rFsF"
      },
      "execution_count": 19,
      "outputs": []
    },
    {
      "cell_type": "markdown",
      "source": [
        "If you take a look at the config.json file, you’ll recognize the attributes necessary to build the model architecture. This file also contains some metadata, such as where the checkpoint originated and what 🤗 Transformers version you were using when you last saved the checkpoint.\n",
        "\n",
        "\n",
        "The pytorch_model.bin file is known as the state dictionary; it contains all your model’s weights. The two files go hand in hand; the configuration is necessary to know your model’s architecture, while the model weights are your model’s parameters."
      ],
      "metadata": {
        "id": "Dh0aQZxUszAB"
      }
    },
    {
      "cell_type": "markdown",
      "source": [
        "### **4. Using a Transformer model for inference**\n",
        "\n",
        "Now that you can load and save a model, the next step is to make predictions with it.\n",
        "\n",
        "But there’s a catch:\n",
        "1. Transformer models only work with numbers, not raw text.\n",
        "2. These numbers are generated by a tokenizer.\n",
        "\n",
        "Before diving into how tokenizers work, it’s useful to understand:\n",
        "\n",
        "👉 What kind of inputs the model actually accepts.\n",
        "\n",
        "Even though tokenizers usually handle everything (like converting text to tensors), it’s helpful to see what’s happening under the hood.\n",
        "\n"
      ],
      "metadata": {
        "id": "g4ZAWN9stH-c"
      }
    },
    {
      "cell_type": "code",
      "source": [
        "sequences = [\"Hello!\", \"Cool.\", \"Nice!\"]"
      ],
      "metadata": {
        "id": "CU2tNyNDsd-M"
      },
      "execution_count": 20,
      "outputs": []
    },
    {
      "cell_type": "markdown",
      "source": [
        "The tokenizer converts these to vocabulary indices which are typically called input IDs. Each sequence is now a list of numbers! The resulting output is:"
      ],
      "metadata": {
        "id": "Y43st7Mftuky"
      }
    },
    {
      "cell_type": "code",
      "source": [
        "encoded_sequences = [\n",
        "    [101, 7592, 999, 102],   # \"Hello!\"\n",
        "    [101, 4658, 1012, 102],  # \"Cool.\"\n",
        "    [101, 3835, 999, 102],   # \"Nice!\"\n",
        "]"
      ],
      "metadata": {
        "id": "F9mv20cbtrXv"
      },
      "execution_count": 21,
      "outputs": []
    },
    {
      "cell_type": "markdown",
      "source": [
        "\t•\t101 = [CLS] token (start of sentence)\n",
        "\t•\t102 = [SEP] token (end of sentence)\n",
        "\n",
        "The numbers in between are IDs for each word/punctuation in the model’s vocabulary.\n",
        "\n",
        "📐 Why Rectangular Shape Matters:\n",
        "\n",
        "This list is already shaped like a matrix — same length per row — so it can be easily converted to a tensor.\n",
        "\n",
        "**Convert sequence to tensors**"
      ],
      "metadata": {
        "id": "FLimB9QHuDa1"
      }
    },
    {
      "cell_type": "code",
      "source": [
        "import torch\n",
        "\n",
        "model_inputs = torch.tensor(encoded_sequences)"
      ],
      "metadata": {
        "id": "bg7XxeQetwvh"
      },
      "execution_count": 22,
      "outputs": []
    },
    {
      "cell_type": "markdown",
      "source": [
        "### **5. Using the tensors as inputs to the model**\n",
        "Once you’ve converted your sequences into tensors (input IDs), using them with the model is super easy:"
      ],
      "metadata": {
        "id": "VnYJsRfiuYTy"
      }
    },
    {
      "cell_type": "code",
      "source": [
        "output = model(model_inputs)"
      ],
      "metadata": {
        "id": "ewR0wFHZuUm1"
      },
      "execution_count": 23,
      "outputs": []
    },
    {
      "cell_type": "markdown",
      "source": [
        "output = model(model_inputs) does not give actual predictions like labels (e.g., “Positive”, “Negative”, “Spam”, etc.).\n",
        "\n",
        "What it does give you is:\n",
        "1. The raw output (hidden states or logits) — basically numerical representations.\n",
        "2. These are not directly interpretable predictions unless you do more processing."
      ],
      "metadata": {
        "id": "v3je5IGwvIZG"
      }
    },
    {
      "cell_type": "markdown",
      "source": [
        "That’s it! **The model processes your input and returns the output (hidden states)**.\n",
        "\n",
        "While the model can accept many arguments (like attention masks, token type IDs, etc.), only input IDs are required for a basic forward pass."
      ],
      "metadata": {
        "id": "xbsbsyC4vZ4z"
      }
    },
    {
      "cell_type": "markdown",
      "source": [
        "## **Tokenizer**\n",
        "Tokenizers are one of the core components of the NLP pipeline. They serve one purpose: to translate text into data that can be processed by the model. Models can only process numbers, so tokenizers need to convert our text inputs to numerical data."
      ],
      "metadata": {
        "id": "kFmbXKgfvjAq"
      }
    },
    {
      "cell_type": "markdown",
      "source": [
        "In NLP tasks, the data that is generally processed is raw text. Here’s an example of such text:\n",
        "\n",
        "`Jim Henson was a puppeteer`\n",
        "\n",
        "Since model can only process numbers, so we need to find a way to convert the raw text to numbers. And this is what tokenizers do. So our goal is to find the best meaningful representation of our raw text, and also if possible smallest one."
      ],
      "metadata": {
        "id": "2VtaTHPa51Gf"
      }
    },
    {
      "cell_type": "markdown",
      "source": [
        "### **Tokenizer Algorithm**"
      ],
      "metadata": {
        "id": "D1QtCFKjCq3g"
      }
    },
    {
      "cell_type": "markdown",
      "source": [
        "#### **1. Word Based**\n",
        "They split text into words, like this:"
      ],
      "metadata": {
        "id": "8SIb85CVCwLV"
      }
    },
    {
      "cell_type": "code",
      "source": [
        "tokenized_text = \"Jim Henson was a puppeteer\".split()\n",
        "print(tokenized_text)"
      ],
      "metadata": {
        "colab": {
          "base_uri": "https://localhost:8080/"
        },
        "id": "gG8n4lywvmn0",
        "outputId": "ebc70095-c1ff-4f1a-c165-a82cb25106dd"
      },
      "execution_count": 24,
      "outputs": [
        {
          "output_type": "stream",
          "name": "stdout",
          "text": [
            "['Jim', 'Henson', 'was', 'a', 'puppeteer']\n"
          ]
        }
      ]
    },
    {
      "cell_type": "markdown",
      "source": [
        "![image.png](data:image/png;base64,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)"
      ],
      "metadata": {
        "id": "AUloeTNnFwgo"
      }
    },
    {
      "cell_type": "markdown",
      "source": [
        "Then, each word is assigned a unique ID from a vocabulary (a list of all known words).\n",
        "\n",
        "📚 Vocabulary and its Problems:\n",
        "1. To represent every word in a language, you’d need hundreds of thousands of tokens (English alone has 500,000+ words).\n",
        "2. Variants like \"**dog**\" and \"**dogs**\" get different IDs, even though they’re similar.\n",
        "3. The model won’t know \"**run**\" and \"**running**\" are related unless it learns it from training data.\n",
        "\n",
        "⚠️ Unknown Token Problem:\n",
        "1. If a word isn’t in the vocabulary, it’s replaced by a special token like **`[UNK] or <unk>`**.\n",
        "2. Too many `[UNK]` tokens = **bad** → it means the **model is missing important info**."
      ],
      "metadata": {
        "id": "jqmxoef_EBum"
      }
    },
    {
      "cell_type": "markdown",
      "source": [
        "#### **2. Character Based**"
      ],
      "metadata": {
        "id": "9TpG7eTVEnkL"
      }
    },
    {
      "cell_type": "markdown",
      "source": [
        "![image.png](data:image/png;base64,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)"
      ],
      "metadata": {
        "id": "WZ_fDmprHnTW"
      }
    },
    {
      "cell_type": "markdown",
      "source": [
        "These split text into individual characters, instead of words.\n",
        "```\n",
        "Example: \"Hello\" → ['H', 'e', 'l', 'l', 'o']\n",
        "```\n",
        "\n",
        "✅ Benefits:\n",
        "1.\t**Small vocabulary size** → only need to store characters, not whole words.\n",
        "2.\t**Fewer unknown tokens** → every word can be built from characters, so we rarely lose information.\n",
        "\n",
        "⚠️ Downsides:\n",
        "*\t**Characters have less meaning** on their own compared to full words.\n",
        "*\t**Longer sequences** — a single word might turn into 5–10 tokens, which increases **processing time**.\n",
        "*\tIt can be **less efficient** and **harder for the model to capture meaning from such low-level input**.\n",
        "\n",
        "🈶 Language matters:\n",
        "*\tIn languages like Chinese, character tokenization can actually work well, because each character carries more meaning.\n",
        "*\tBut in English or other Latin languages, this approach often leads to inefficiency."
      ],
      "metadata": {
        "id": "braG-Q5YHDIK"
      }
    },
    {
      "cell_type": "markdown",
      "source": [
        "#### **3. Subword Tokenization**"
      ],
      "metadata": {
        "id": "hq1Vkf43H1zx"
      }
    },
    {
      "cell_type": "markdown",
      "source": [
        "Subword tokenizers strike a balance between word-based and character-based tokenization.\n",
        "\n",
        "💡 Core Idea:\n",
        "*\tCommon words → stay as one token.\n",
        "*\tRare words → broken into smaller, meaningful pieces (subwords).\n",
        "\n",
        "📍 Example:\n",
        "\n",
        "```\n",
        "  \"annoyingly\" → \"annoying\" + \"ly\"\n",
        "```\n",
        "**\"tokenization\" → \"token\" + \"ization\"**\n",
        "\n",
        "These smaller parts still carry **semantic** meaning, which **makes** them useful for the **model** to **understand**."
      ],
      "metadata": {
        "id": "fZ3GwwzzH9Uu"
      }
    },
    {
      "cell_type": "markdown",
      "source": [
        "✅ Benefits:\n",
        "*\tSmaller vocabulary size (compared to word-based).\n",
        "*\tVery few unknown tokens — because rare or new words can still be built from known subwords.\n",
        "*\tMore efficient than character-level tokenization.\n",
        "*\tWorks great for complex languages like Turkish or Finnish, where words can be made by combining multiple parts."
      ],
      "metadata": {
        "id": "tPgSOSNEIWtE"
      }
    },
    {
      "cell_type": "markdown",
      "source": [
        "🛠 Popular Subword Algorithms:\n",
        "*\tByte Pair Encoding (BPE) – used by GPT models.\n",
        "*\tWordPiece – used by BERT.\n",
        "*\tUnigram – used by models like XLM-RoBERTa."
      ],
      "metadata": {
        "id": "jxBYFVn5L0jA"
      }
    },
    {
      "cell_type": "markdown",
      "source": [
        "### Loading and Saving a Tokenizer\n",
        "\n",
        "Just like models, tokenizers are loaded and saved using:\n",
        "* `from_pretrained()` → to load a pretrained tokenizer\n",
        "* `save_pretrained()` → to save it locally"
      ],
      "metadata": {
        "id": "8gS-3yGkMpW5"
      }
    },
    {
      "cell_type": "code",
      "source": [
        "# Loading a BERT Tokenizer:\n",
        "\n",
        "from transformers import BertTokenizer\n",
        "\n",
        "tokenizer = BertTokenizer.from_pretrained(\"bert-base-cased\")"
      ],
      "metadata": {
        "colab": {
          "base_uri": "https://localhost:8080/",
          "height": 113,
          "referenced_widgets": [
            "1dc7bb02add443889faefe3d3519ae73",
            "3ef3b903f7dc4cde93c769d4580036c4",
            "7b6020fc87404034bf33e11ec079840e",
            "3029160c14184912b5fe30db73f4c035",
            "123cb318c995448d9ffc37e5d0d1ad72",
            "d3c16f9550ba42159edbab22d9d51aaa",
            "1ffe01512f46428b87b4e16ce18ad6d5",
            "d3fef40eea58482f9ce7f2668f7287cc",
            "7949b721f162472d9a330bcf86154b46",
            "3ad0953ccb0a490d98f771c0e49d87e9",
            "d665c3300fa84273a1a1a26995180a0d",
            "a6d793039f8f4845861bee4e7f8edad3",
            "ab28732cf56b43649dace9e9c8f0e45c",
            "853b3541d4cc4320b89c2feb5ea1f562",
            "b89eb498d9f547099a2ad89a137ecaa7",
            "9d753e3f58c74c008209cc911e80cffc",
            "b795bb619d174332b030137620c89453",
            "241b69cfd5fb42809f6a77e7203e489a",
            "88ce38f3c7154e0b97d352fd2a4deff3",
            "b7b3801e833b4c18aeaacacf6b08d9c3",
            "39e47c138a1342bb8674eb8b8dffbe40",
            "448785589ba046f095f52a98c9400c71",
            "989a2e68bae5438e816d5b1a6645bef8",
            "135493dd5ce7467aa872aa87a9d955ec",
            "a386812c154b4981a3453f936b9cafc2",
            "a43725ecee544a6ab298cba91ea4d75e",
            "48e3ce9fa4ce42538f1d2ad7cbd0dcf0",
            "573c0a762b124bbeb9b1c3224cf4090e",
            "8de3c76b33484497b9ea62292993b084",
            "3c535f2aed5949e0817461c86f0f8fc8",
            "4989fc8189c2461baf390673b2d7de4e",
            "fa74fe49f6d746318f60560baa62aa30",
            "ec5ecae098b94c9ab6b74ad5197092d0"
          ]
        },
        "id": "Kk2vJVVK55tv",
        "outputId": "06b1e7d8-7948-4a82-d2c5-c62124a34865"
      },
      "execution_count": 25,
      "outputs": [
        {
          "output_type": "display_data",
          "data": {
            "text/plain": [
              "tokenizer_config.json:   0%|          | 0.00/49.0 [00:00<?, ?B/s]"
            ],
            "application/vnd.jupyter.widget-view+json": {
              "version_major": 2,
              "version_minor": 0,
              "model_id": "1dc7bb02add443889faefe3d3519ae73"
            }
          },
          "metadata": {}
        },
        {
          "output_type": "display_data",
          "data": {
            "text/plain": [
              "vocab.txt:   0%|          | 0.00/213k [00:00<?, ?B/s]"
            ],
            "application/vnd.jupyter.widget-view+json": {
              "version_major": 2,
              "version_minor": 0,
              "model_id": "a6d793039f8f4845861bee4e7f8edad3"
            }
          },
          "metadata": {}
        },
        {
          "output_type": "display_data",
          "data": {
            "text/plain": [
              "tokenizer.json:   0%|          | 0.00/436k [00:00<?, ?B/s]"
            ],
            "application/vnd.jupyter.widget-view+json": {
              "version_major": 2,
              "version_minor": 0,
              "model_id": "989a2e68bae5438e816d5b1a6645bef8"
            }
          },
          "metadata": {}
        }
      ]
    },
    {
      "cell_type": "markdown",
      "source": [
        "But it’s better to use AutoTokenizer — it’s checkpoint-agnostic (works with any model):"
      ],
      "metadata": {
        "id": "mxBGCmq2NEag"
      }
    },
    {
      "cell_type": "code",
      "source": [
        "from transformers import AutoTokenizer\n",
        "\n",
        "tokenizer = AutoTokenizer.from_pretrained(\"bert-base-cased\")"
      ],
      "metadata": {
        "id": "LbXbg4r6NAlg"
      },
      "execution_count": 26,
      "outputs": []
    },
    {
      "cell_type": "markdown",
      "source": [
        "Now, we can use this tokenizer for our usecase"
      ],
      "metadata": {
        "id": "34kWA_VFNMnh"
      }
    },
    {
      "cell_type": "code",
      "source": [
        "tokenizer(\"Using a Transformer network is simple\")"
      ],
      "metadata": {
        "colab": {
          "base_uri": "https://localhost:8080/"
        },
        "id": "YYBJeJC-NIXY",
        "outputId": "0ba82224-2530-4de5-e27e-5aa91f016054"
      },
      "execution_count": 27,
      "outputs": [
        {
          "output_type": "execute_result",
          "data": {
            "text/plain": [
              "{'input_ids': [101, 7993, 170, 13809, 23763, 2443, 1110, 3014, 102], 'token_type_ids': [0, 0, 0, 0, 0, 0, 0, 0, 0], 'attention_mask': [1, 1, 1, 1, 1, 1, 1, 1, 1]}"
            ]
          },
          "metadata": {},
          "execution_count": 27
        }
      ]
    },
    {
      "cell_type": "markdown",
      "source": [
        "**Saving a tokenizer is identical to saving a model:**"
      ],
      "metadata": {
        "id": "89Wka3dHNX2l"
      }
    },
    {
      "cell_type": "code",
      "source": [
        "tokenizer.save_pretrained(\"directory_on_my_computer\")"
      ],
      "metadata": {
        "colab": {
          "base_uri": "https://localhost:8080/"
        },
        "id": "AgK1yqU_NUzS",
        "outputId": "9112146f-2294-4e57-f94c-e4ef648d1dff"
      },
      "execution_count": 28,
      "outputs": [
        {
          "output_type": "execute_result",
          "data": {
            "text/plain": [
              "('directory_on_my_computer/tokenizer_config.json',\n",
              " 'directory_on_my_computer/special_tokens_map.json',\n",
              " 'directory_on_my_computer/vocab.txt',\n",
              " 'directory_on_my_computer/added_tokens.json',\n",
              " 'directory_on_my_computer/tokenizer.json')"
            ]
          },
          "metadata": {},
          "execution_count": 28
        }
      ]
    },
    {
      "cell_type": "markdown",
      "source": [
        "We’ll talk more about token_type_ids, and we’ll explain the attention_mask key a little later. First, let’s see how the **input_ids** are **generated**. To do this, we’ll need to look at the **intermediate methods of the tokenizer**.\n",
        "\n",
        "### Tokernizer Under the Hood"
      ],
      "metadata": {
        "id": "tgJjlyArN7A9"
      }
    },
    {
      "cell_type": "markdown",
      "source": [
        "#### **1. Encoding**\n",
        "\n",
        "We’ll follow the two key steps:\n",
        "1.\tTokenization — breaking text into subword tokens\n",
        "2.\tConversion to Input IDs — mapping those tokens to numbers"
      ],
      "metadata": {
        "id": "TDqSMeZyOFqf"
      }
    },
    {
      "cell_type": "markdown",
      "source": [
        "the first step is to split the text into words (or parts of words, punctuation symbols, etc.), usually **called** **tokens**. There are multiple rules that can govern that process, which is why we need to instantiate the tokenizer using the name of the model, **to make sure we use the same rules that were used when the model was pretrained**.\n",
        "\n",
        "\n",
        "The second step is to convert those tokens into numbers, so we can **build** a **tensor** out of them and feed them to the model. To do this, the **tokenizer** has a **vocabulary**, which is the part we **download** when we **instantiate** it with the **from_pretrained**() method. Again, **we need to use the same vocabulary used when the model was pretrained.**\n"
      ],
      "metadata": {
        "id": "LaZxOiwfOuDx"
      }
    },
    {
      "cell_type": "markdown",
      "source": [
        "##### **a) Tokenization**\n",
        "\n",
        "The tokenization process is done by the tokenize() method of the tokenizer:"
      ],
      "metadata": {
        "id": "NOpCNkvrPKCN"
      }
    },
    {
      "cell_type": "code",
      "source": [
        "from transformers import AutoTokenizer\n",
        "\n",
        "tokenizer = AutoTokenizer.from_pretrained('bert-base-cased')\n",
        "\n",
        "sequence = \"Using a Transformer network is simple\"\n",
        "tokens = tokenizer.tokenize(sequence)\n",
        "\n",
        "print(tokens)"
      ],
      "metadata": {
        "colab": {
          "base_uri": "https://localhost:8080/"
        },
        "id": "bCqiswGdNbm6",
        "outputId": "fca2a46f-5cdf-4ead-b1ef-65c4192346ea"
      },
      "execution_count": 29,
      "outputs": [
        {
          "output_type": "stream",
          "name": "stdout",
          "text": [
            "['Using', 'a', 'Trans', '##former', 'network', 'is', 'simple']\n"
          ]
        }
      ]
    },
    {
      "cell_type": "markdown",
      "source": [
        "This tokenizer is a **subword tokenizer**: it splits the words until it obtains tokens that can be represented by its vocabulary. That’s the case here with **transformer**, which is split into two tokens: transform and ##er."
      ],
      "metadata": {
        "id": "bjtkQFxcRYGu"
      }
    },
    {
      "cell_type": "markdown",
      "source": [
        "##### **b) From tokens to input IDs**\n",
        "\n",
        "The conversion to input IDs is handled by the convert_tokens_to_ids() tokenizer method:"
      ],
      "metadata": {
        "id": "4a76WKVuUUrn"
      }
    },
    {
      "cell_type": "code",
      "source": [
        "ids = tokenizer.convert_tokens_to_ids(tokens)\n",
        "print(ids)"
      ],
      "metadata": {
        "colab": {
          "base_uri": "https://localhost:8080/"
        },
        "id": "iWav-A5tQ31m",
        "outputId": "c4bd571e-ed7e-4bc7-cd8d-6d927659c2c4"
      },
      "execution_count": 30,
      "outputs": [
        {
          "output_type": "stream",
          "name": "stdout",
          "text": [
            "[7993, 170, 13809, 23763, 2443, 1110, 3014]\n"
          ]
        }
      ]
    },
    {
      "cell_type": "markdown",
      "source": [
        "These outputs, we can convert to the appropriate framework tensor, can then be used as inputs to a model.\n",
        "\n",
        "**`raw text ---> tokens ----> input ids ----> tensors ----> Models`**"
      ],
      "metadata": {
        "id": "DaF6K3BlVXak"
      }
    },
    {
      "cell_type": "markdown",
      "source": [
        "#### **2. Decoding**\n",
        "\n",
        "Decoding is going the other way around: from vocabulary indices, we want to get a string. This can be done with the **`decode()`** method as follows:"
      ],
      "metadata": {
        "id": "SUPhpm3QVxKk"
      }
    },
    {
      "cell_type": "code",
      "source": [
        "decoded_string = tokenizer.decode([7993, 170, 11303, 1200, 2443, 1110, 3014])\n",
        "print(decoded_string)"
      ],
      "metadata": {
        "colab": {
          "base_uri": "https://localhost:8080/"
        },
        "id": "YOeCjOqZVEzh",
        "outputId": "24dd2a8b-0aef-426e-c6b0-bd339e20b9fa"
      },
      "execution_count": 31,
      "outputs": [
        {
          "output_type": "stream",
          "name": "stdout",
          "text": [
            "Using a transformer network is simple\n"
          ]
        }
      ]
    },
    {
      "cell_type": "markdown",
      "source": [
        "**Note** that the decode method not only converts the indices back to tokens, but **also groups together the tokens** that were part of the same words to produce a readable sentence. This behavior will be extremely useful when we use models that predict new text (either text generated from a prompt, or for sequence-to-sequence problems like translation or summarization)."
      ],
      "metadata": {
        "id": "h1sZJsYoWK30"
      }
    },
    {
      "cell_type": "markdown",
      "source": [
        "## **Handling multiple sequences**\n",
        "\n",
        "we explored the simplest of use cases: doing inference on a single sequence of a small length. However, some questions emerge already:\n",
        "\n",
        "* How do we handle multiple sequences?\n",
        "* How do we handle multiple sequences of different lengths?\n",
        "* Are vocabulary indices the only inputs that allow a model to work well?\n",
        "* Is there such a thing as too long a sequence?"
      ],
      "metadata": {
        "id": "Zc0hrPgxberq"
      }
    },
    {
      "cell_type": "markdown",
      "source": [
        "### **1. Models expect a batch of inputs**\n",
        "\n",
        "Models expect a batch of inputs."
      ],
      "metadata": {
        "id": "Wa6Asahfb1ib"
      }
    },
    {
      "cell_type": "code",
      "source": [
        "import torch\n",
        "from transformers import AutoTokenizer, AutoModelForSequenceClassification\n",
        "\n",
        "checkpoint = \"distilbert-base-uncased-finetuned-sst-2-english\"\n",
        "tokenizer = AutoTokenizer.from_pretrained(checkpoint)\n",
        "model = AutoModelForSequenceClassification.from_pretrained(checkpoint)\n",
        "\n",
        "sequence = \"I've been waiting for a HuggingFace course my whole life.\"\n",
        "\n",
        "tokens = tokenizer.tokenize(sequence)\n",
        "ids = tokenizer.convert_tokens_to_ids(tokens)\n",
        "input_ids = torch.tensor(ids)\n",
        "# This line will fail.\n",
        "model(input_ids)"
      ],
      "metadata": {
        "colab": {
          "base_uri": "https://localhost:8080/",
          "height": 329
        },
        "id": "ug3ttpVKWBaN",
        "outputId": "88875fb2-fe33-4f5e-de4d-52035cd76b7e"
      },
      "execution_count": 32,
      "outputs": [
        {
          "output_type": "error",
          "ename": "IndexError",
          "evalue": "too many indices for tensor of dimension 1",
          "traceback": [
            "\u001b[0;31m---------------------------------------------------------------------------\u001b[0m",
            "\u001b[0;31mIndexError\u001b[0m                                Traceback (most recent call last)",
            "\u001b[0;32m<ipython-input-32-2b9fc1b6cd40>\u001b[0m in \u001b[0;36m<cell line: 0>\u001b[0;34m()\u001b[0m\n\u001b[1;32m     12\u001b[0m \u001b[0minput_ids\u001b[0m \u001b[0;34m=\u001b[0m \u001b[0mtorch\u001b[0m\u001b[0;34m.\u001b[0m\u001b[0mtensor\u001b[0m\u001b[0;34m(\u001b[0m\u001b[0mids\u001b[0m\u001b[0;34m)\u001b[0m\u001b[0;34m\u001b[0m\u001b[0;34m\u001b[0m\u001b[0m\n\u001b[1;32m     13\u001b[0m \u001b[0;31m# This line will fail.\u001b[0m\u001b[0;34m\u001b[0m\u001b[0;34m\u001b[0m\u001b[0m\n\u001b[0;32m---> 14\u001b[0;31m \u001b[0mmodel\u001b[0m\u001b[0;34m(\u001b[0m\u001b[0minput_ids\u001b[0m\u001b[0;34m)\u001b[0m\u001b[0;34m\u001b[0m\u001b[0;34m\u001b[0m\u001b[0m\n\u001b[0m",
            "\u001b[0;32m/usr/local/lib/python3.11/dist-packages/torch/nn/modules/module.py\u001b[0m in \u001b[0;36m_wrapped_call_impl\u001b[0;34m(self, *args, **kwargs)\u001b[0m\n\u001b[1;32m   1737\u001b[0m             \u001b[0;32mreturn\u001b[0m \u001b[0mself\u001b[0m\u001b[0;34m.\u001b[0m\u001b[0m_compiled_call_impl\u001b[0m\u001b[0;34m(\u001b[0m\u001b[0;34m*\u001b[0m\u001b[0margs\u001b[0m\u001b[0;34m,\u001b[0m \u001b[0;34m**\u001b[0m\u001b[0mkwargs\u001b[0m\u001b[0;34m)\u001b[0m  \u001b[0;31m# type: ignore[misc]\u001b[0m\u001b[0;34m\u001b[0m\u001b[0;34m\u001b[0m\u001b[0m\n\u001b[1;32m   1738\u001b[0m         \u001b[0;32melse\u001b[0m\u001b[0;34m:\u001b[0m\u001b[0;34m\u001b[0m\u001b[0;34m\u001b[0m\u001b[0m\n\u001b[0;32m-> 1739\u001b[0;31m             \u001b[0;32mreturn\u001b[0m \u001b[0mself\u001b[0m\u001b[0;34m.\u001b[0m\u001b[0m_call_impl\u001b[0m\u001b[0;34m(\u001b[0m\u001b[0;34m*\u001b[0m\u001b[0margs\u001b[0m\u001b[0;34m,\u001b[0m \u001b[0;34m**\u001b[0m\u001b[0mkwargs\u001b[0m\u001b[0;34m)\u001b[0m\u001b[0;34m\u001b[0m\u001b[0;34m\u001b[0m\u001b[0m\n\u001b[0m\u001b[1;32m   1740\u001b[0m \u001b[0;34m\u001b[0m\u001b[0m\n\u001b[1;32m   1741\u001b[0m     \u001b[0;31m# torchrec tests the code consistency with the following code\u001b[0m\u001b[0;34m\u001b[0m\u001b[0;34m\u001b[0m\u001b[0m\n",
            "\u001b[0;32m/usr/local/lib/python3.11/dist-packages/torch/nn/modules/module.py\u001b[0m in \u001b[0;36m_call_impl\u001b[0;34m(self, *args, **kwargs)\u001b[0m\n\u001b[1;32m   1748\u001b[0m                 \u001b[0;32mor\u001b[0m \u001b[0m_global_backward_pre_hooks\u001b[0m \u001b[0;32mor\u001b[0m \u001b[0m_global_backward_hooks\u001b[0m\u001b[0;34m\u001b[0m\u001b[0;34m\u001b[0m\u001b[0m\n\u001b[1;32m   1749\u001b[0m                 or _global_forward_hooks or _global_forward_pre_hooks):\n\u001b[0;32m-> 1750\u001b[0;31m             \u001b[0;32mreturn\u001b[0m \u001b[0mforward_call\u001b[0m\u001b[0;34m(\u001b[0m\u001b[0;34m*\u001b[0m\u001b[0margs\u001b[0m\u001b[0;34m,\u001b[0m \u001b[0;34m**\u001b[0m\u001b[0mkwargs\u001b[0m\u001b[0;34m)\u001b[0m\u001b[0;34m\u001b[0m\u001b[0;34m\u001b[0m\u001b[0m\n\u001b[0m\u001b[1;32m   1751\u001b[0m \u001b[0;34m\u001b[0m\u001b[0m\n\u001b[1;32m   1752\u001b[0m         \u001b[0mresult\u001b[0m \u001b[0;34m=\u001b[0m \u001b[0;32mNone\u001b[0m\u001b[0;34m\u001b[0m\u001b[0;34m\u001b[0m\u001b[0m\n",
            "\u001b[0;32m/usr/local/lib/python3.11/dist-packages/transformers/models/distilbert/modeling_distilbert.py\u001b[0m in \u001b[0;36mforward\u001b[0;34m(self, input_ids, attention_mask, head_mask, inputs_embeds, labels, output_attentions, output_hidden_states, return_dict)\u001b[0m\n\u001b[1;32m    975\u001b[0m         \u001b[0mreturn_dict\u001b[0m \u001b[0;34m=\u001b[0m \u001b[0mreturn_dict\u001b[0m \u001b[0;32mif\u001b[0m \u001b[0mreturn_dict\u001b[0m \u001b[0;32mis\u001b[0m \u001b[0;32mnot\u001b[0m \u001b[0;32mNone\u001b[0m \u001b[0;32melse\u001b[0m \u001b[0mself\u001b[0m\u001b[0;34m.\u001b[0m\u001b[0mconfig\u001b[0m\u001b[0;34m.\u001b[0m\u001b[0muse_return_dict\u001b[0m\u001b[0;34m\u001b[0m\u001b[0;34m\u001b[0m\u001b[0m\n\u001b[1;32m    976\u001b[0m \u001b[0;34m\u001b[0m\u001b[0m\n\u001b[0;32m--> 977\u001b[0;31m         distilbert_output = self.distilbert(\n\u001b[0m\u001b[1;32m    978\u001b[0m             \u001b[0minput_ids\u001b[0m\u001b[0;34m=\u001b[0m\u001b[0minput_ids\u001b[0m\u001b[0;34m,\u001b[0m\u001b[0;34m\u001b[0m\u001b[0;34m\u001b[0m\u001b[0m\n\u001b[1;32m    979\u001b[0m             \u001b[0mattention_mask\u001b[0m\u001b[0;34m=\u001b[0m\u001b[0mattention_mask\u001b[0m\u001b[0;34m,\u001b[0m\u001b[0;34m\u001b[0m\u001b[0;34m\u001b[0m\u001b[0m\n",
            "\u001b[0;32m/usr/local/lib/python3.11/dist-packages/torch/nn/modules/module.py\u001b[0m in \u001b[0;36m_wrapped_call_impl\u001b[0;34m(self, *args, **kwargs)\u001b[0m\n\u001b[1;32m   1737\u001b[0m             \u001b[0;32mreturn\u001b[0m \u001b[0mself\u001b[0m\u001b[0;34m.\u001b[0m\u001b[0m_compiled_call_impl\u001b[0m\u001b[0;34m(\u001b[0m\u001b[0;34m*\u001b[0m\u001b[0margs\u001b[0m\u001b[0;34m,\u001b[0m \u001b[0;34m**\u001b[0m\u001b[0mkwargs\u001b[0m\u001b[0;34m)\u001b[0m  \u001b[0;31m# type: ignore[misc]\u001b[0m\u001b[0;34m\u001b[0m\u001b[0;34m\u001b[0m\u001b[0m\n\u001b[1;32m   1738\u001b[0m         \u001b[0;32melse\u001b[0m\u001b[0;34m:\u001b[0m\u001b[0;34m\u001b[0m\u001b[0;34m\u001b[0m\u001b[0m\n\u001b[0;32m-> 1739\u001b[0;31m             \u001b[0;32mreturn\u001b[0m \u001b[0mself\u001b[0m\u001b[0;34m.\u001b[0m\u001b[0m_call_impl\u001b[0m\u001b[0;34m(\u001b[0m\u001b[0;34m*\u001b[0m\u001b[0margs\u001b[0m\u001b[0;34m,\u001b[0m \u001b[0;34m**\u001b[0m\u001b[0mkwargs\u001b[0m\u001b[0;34m)\u001b[0m\u001b[0;34m\u001b[0m\u001b[0;34m\u001b[0m\u001b[0m\n\u001b[0m\u001b[1;32m   1740\u001b[0m \u001b[0;34m\u001b[0m\u001b[0m\n\u001b[1;32m   1741\u001b[0m     \u001b[0;31m# torchrec tests the code consistency with the following code\u001b[0m\u001b[0;34m\u001b[0m\u001b[0;34m\u001b[0m\u001b[0m\n",
            "\u001b[0;32m/usr/local/lib/python3.11/dist-packages/torch/nn/modules/module.py\u001b[0m in \u001b[0;36m_call_impl\u001b[0;34m(self, *args, **kwargs)\u001b[0m\n\u001b[1;32m   1748\u001b[0m                 \u001b[0;32mor\u001b[0m \u001b[0m_global_backward_pre_hooks\u001b[0m \u001b[0;32mor\u001b[0m \u001b[0m_global_backward_hooks\u001b[0m\u001b[0;34m\u001b[0m\u001b[0;34m\u001b[0m\u001b[0m\n\u001b[1;32m   1749\u001b[0m                 or _global_forward_hooks or _global_forward_pre_hooks):\n\u001b[0;32m-> 1750\u001b[0;31m             \u001b[0;32mreturn\u001b[0m \u001b[0mforward_call\u001b[0m\u001b[0;34m(\u001b[0m\u001b[0;34m*\u001b[0m\u001b[0margs\u001b[0m\u001b[0;34m,\u001b[0m \u001b[0;34m**\u001b[0m\u001b[0mkwargs\u001b[0m\u001b[0;34m)\u001b[0m\u001b[0;34m\u001b[0m\u001b[0;34m\u001b[0m\u001b[0m\n\u001b[0m\u001b[1;32m   1751\u001b[0m \u001b[0;34m\u001b[0m\u001b[0m\n\u001b[1;32m   1752\u001b[0m         \u001b[0mresult\u001b[0m \u001b[0;34m=\u001b[0m \u001b[0;32mNone\u001b[0m\u001b[0;34m\u001b[0m\u001b[0;34m\u001b[0m\u001b[0m\n",
            "\u001b[0;32m/usr/local/lib/python3.11/dist-packages/transformers/models/distilbert/modeling_distilbert.py\u001b[0m in \u001b[0;36mforward\u001b[0;34m(self, input_ids, attention_mask, head_mask, inputs_embeds, output_attentions, output_hidden_states, return_dict)\u001b[0m\n\u001b[1;32m    769\u001b[0m             \u001b[0;32mraise\u001b[0m \u001b[0mValueError\u001b[0m\u001b[0;34m(\u001b[0m\u001b[0;34m\"You cannot specify both input_ids and inputs_embeds at the same time\"\u001b[0m\u001b[0;34m)\u001b[0m\u001b[0;34m\u001b[0m\u001b[0;34m\u001b[0m\u001b[0m\n\u001b[1;32m    770\u001b[0m         \u001b[0;32melif\u001b[0m \u001b[0minput_ids\u001b[0m \u001b[0;32mis\u001b[0m \u001b[0;32mnot\u001b[0m \u001b[0;32mNone\u001b[0m\u001b[0;34m:\u001b[0m\u001b[0;34m\u001b[0m\u001b[0;34m\u001b[0m\u001b[0m\n\u001b[0;32m--> 771\u001b[0;31m             \u001b[0mself\u001b[0m\u001b[0;34m.\u001b[0m\u001b[0mwarn_if_padding_and_no_attention_mask\u001b[0m\u001b[0;34m(\u001b[0m\u001b[0minput_ids\u001b[0m\u001b[0;34m,\u001b[0m \u001b[0mattention_mask\u001b[0m\u001b[0;34m)\u001b[0m\u001b[0;34m\u001b[0m\u001b[0;34m\u001b[0m\u001b[0m\n\u001b[0m\u001b[1;32m    772\u001b[0m             \u001b[0minput_shape\u001b[0m \u001b[0;34m=\u001b[0m \u001b[0minput_ids\u001b[0m\u001b[0;34m.\u001b[0m\u001b[0msize\u001b[0m\u001b[0;34m(\u001b[0m\u001b[0;34m)\u001b[0m\u001b[0;34m\u001b[0m\u001b[0;34m\u001b[0m\u001b[0m\n\u001b[1;32m    773\u001b[0m         \u001b[0;32melif\u001b[0m \u001b[0minputs_embeds\u001b[0m \u001b[0;32mis\u001b[0m \u001b[0;32mnot\u001b[0m \u001b[0;32mNone\u001b[0m\u001b[0;34m:\u001b[0m\u001b[0;34m\u001b[0m\u001b[0;34m\u001b[0m\u001b[0m\n",
            "\u001b[0;32m/usr/local/lib/python3.11/dist-packages/transformers/modeling_utils.py\u001b[0m in \u001b[0;36mwarn_if_padding_and_no_attention_mask\u001b[0;34m(self, input_ids, attention_mask)\u001b[0m\n\u001b[1;32m   5069\u001b[0m \u001b[0;34m\u001b[0m\u001b[0m\n\u001b[1;32m   5070\u001b[0m         \u001b[0;31m# Check only the first and last input IDs to reduce overhead.\u001b[0m\u001b[0;34m\u001b[0m\u001b[0;34m\u001b[0m\u001b[0m\n\u001b[0;32m-> 5071\u001b[0;31m         \u001b[0;32mif\u001b[0m \u001b[0mself\u001b[0m\u001b[0;34m.\u001b[0m\u001b[0mconfig\u001b[0m\u001b[0;34m.\u001b[0m\u001b[0mpad_token_id\u001b[0m \u001b[0;32min\u001b[0m \u001b[0minput_ids\u001b[0m\u001b[0;34m[\u001b[0m\u001b[0;34m:\u001b[0m\u001b[0;34m,\u001b[0m \u001b[0;34m[\u001b[0m\u001b[0;34m-\u001b[0m\u001b[0;36m1\u001b[0m\u001b[0;34m,\u001b[0m \u001b[0;36m0\u001b[0m\u001b[0;34m]\u001b[0m\u001b[0;34m]\u001b[0m\u001b[0;34m:\u001b[0m\u001b[0;34m\u001b[0m\u001b[0;34m\u001b[0m\u001b[0m\n\u001b[0m\u001b[1;32m   5072\u001b[0m             warn_string = (\n\u001b[1;32m   5073\u001b[0m                 \u001b[0;34m\"We strongly recommend passing in an `attention_mask` since your input_ids may be padded. See \"\u001b[0m\u001b[0;34m\u001b[0m\u001b[0;34m\u001b[0m\u001b[0m\n",
            "\u001b[0;31mIndexError\u001b[0m: too many indices for tensor of dimension 1"
          ]
        }
      ]
    },
    {
      "cell_type": "markdown",
      "source": [
        "**Oh no! Why did this fail?**\n",
        "\n",
        "\t•\tinput_ids is a 1D tensor, shape: [seq_len]\n",
        "\t•\tBut the model expects a 2D tensor, shape: [batch_size, seq_len]\n",
        "\t•\tSo it throws an error like:\n",
        "  \n",
        "IndexError: Dimension out of range (expected to be in range of [-1, 0], but got 1)\n",
        "\n",
        "Because the **model tries to access batch-related dimensions** (like dimension 1 for seq_len), but they don’t exist."
      ],
      "metadata": {
        "id": "s_fqQZIDcCYw"
      }
    },
    {
      "cell_type": "markdown",
      "source": [
        "**Using tokenizer with return_tensors=“pt”**"
      ],
      "metadata": {
        "id": "Po0Nc7zudjAS"
      }
    },
    {
      "cell_type": "code",
      "source": [
        "tokenized_inputs = tokenizer(sequence, return_tensors=\"pt\")\n",
        "print(tokenized_inputs[\"input_ids\"])"
      ],
      "metadata": {
        "colab": {
          "base_uri": "https://localhost:8080/"
        },
        "id": "aCaoo0TadilH",
        "outputId": "c80f86cc-5553-47c3-f617-72d87e890118"
      },
      "execution_count": 33,
      "outputs": [
        {
          "output_type": "stream",
          "name": "stdout",
          "text": [
            "tensor([[  101,  1045,  1005,  2310,  2042,  3403,  2005,  1037, 17662, 12172,\n",
            "          2607,  2026,  2878,  2166,  1012,   102]])\n"
          ]
        }
      ]
    },
    {
      "cell_type": "markdown",
      "source": [
        "Behind the scenes, this does everything correctly:\n",
        "\n",
        "*\tTokenizes the sentence\n",
        "*\tConverts tokens to IDs\n",
        "*\tAdds special tokens like [CLS] and [SEP]\n",
        "*\tPads/truncates (if needed)\n",
        "*\tReturns a 2D tensor, shape: [1, seq_len] → ✔️ batch of 1"
      ],
      "metadata": {
        "id": "ymHw6S6FdqOK"
      }
    },
    {
      "cell_type": "markdown",
      "source": [
        "**Instead of using return_tensor, lets add one more dimensions manually**"
      ],
      "metadata": {
        "id": "GOjIejnoeG52"
      }
    },
    {
      "cell_type": "code",
      "source": [
        "import torch\n",
        "from transformers import AutoTokenizer, AutoModelForSequenceClassification\n",
        "\n",
        "checkpoint = \"distilbert-base-uncased-finetuned-sst-2-english\"\n",
        "tokenizer = AutoTokenizer.from_pretrained(checkpoint)\n",
        "model = AutoModelForSequenceClassification.from_pretrained(checkpoint)\n",
        "\n",
        "sequence = \"I've been waiting for a HuggingFace course my whole life.\"\n",
        "\n",
        "tokens = tokenizer.tokenize(sequence)\n",
        "ids = tokenizer.convert_tokens_to_ids(tokens)\n",
        "\n",
        "input_ids = torch.tensor([ids])\n",
        "print(\"Input IDs:\", input_ids)\n",
        "\n",
        "output = model(input_ids)\n",
        "print(\"Logits:\", output.logits)"
      ],
      "metadata": {
        "colab": {
          "base_uri": "https://localhost:8080/"
        },
        "id": "-Z34KAceWCAs",
        "outputId": "6f3ae8c4-f188-4de6-af79-93fd1be659a9"
      },
      "execution_count": 34,
      "outputs": [
        {
          "output_type": "stream",
          "name": "stdout",
          "text": [
            "Input IDs: tensor([[ 1045,  1005,  2310,  2042,  3403,  2005,  1037, 17662, 12172,  2607,\n",
            "          2026,  2878,  2166,  1012]])\n",
            "Logits: tensor([[-2.7276,  2.8789]], grad_fn=<AddmmBackward0>)\n"
          ]
        }
      ]
    },
    {
      "cell_type": "markdown",
      "source": [
        "Batching is the act of sending multiple sentences through the model, all at once. If you only have one sentence, you can just build a batch with a single sequence:"
      ],
      "metadata": {
        "id": "Icrz1evaeY9X"
      }
    },
    {
      "cell_type": "markdown",
      "source": [
        "### **2. Try Batching with Multiple Sentences? and Problems**\n",
        "\n",
        "Batching allows the model to work when you feed it multiple sentences. Using multiple sequences is just as simple as building a batch with a single sequence.\n",
        "\n",
        "\n",
        "**Problem:** When you’re trying to batch together two (or more) sentences, they might be of different lengths. If you’ve ever worked with tensors before, you know that they need to be of rectangular shape, so you won’t be able to convert the list of input IDs into a tensor directly.\n",
        "\n",
        "**Solution:** To work around this problem, we usually pad the inputs."
      ],
      "metadata": {
        "id": "CisE87fTegrl"
      }
    },
    {
      "cell_type": "markdown",
      "source": [
        "### **3. Padding**\n",
        "\n",
        "**What if sequences have different lengths?**"
      ],
      "metadata": {
        "id": "en53uMcifHPR"
      }
    },
    {
      "cell_type": "code",
      "source": [
        "batched_ids = [\n",
        "    [200, 200, 200],\n",
        "    [200, 200]\n",
        "]"
      ],
      "metadata": {
        "id": "e0-YqhipeRUk"
      },
      "execution_count": 35,
      "outputs": []
    },
    {
      "cell_type": "markdown",
      "source": [
        "Above is invalid tensor shape, so you cannot convert this to tensor, It will fail. Here Padding comes as rescue."
      ],
      "metadata": {
        "id": "KdAa8HIcfNNj"
      }
    },
    {
      "cell_type": "code",
      "source": [
        "padding_id = 100 # The padding token ID can be found in tokenizer.pad_token_id.\n",
        "\n",
        "batched_ids = [\n",
        "    [200, 200, 200],\n",
        "    [200, 200, padding_id],\n",
        "]"
      ],
      "metadata": {
        "id": "md9rr32pfMXm"
      },
      "execution_count": 37,
      "outputs": []
    },
    {
      "cell_type": "markdown",
      "source": [
        "**🎯 Why do padding tokens cause wrong results?**"
      ],
      "metadata": {
        "id": "f-SO-hMif3OE"
      }
    },
    {
      "cell_type": "code",
      "source": [
        "model = AutoModelForSequenceClassification.from_pretrained(checkpoint)\n",
        "\n",
        "sequence1_ids = [[200, 200, 200]]\n",
        "sequence2_ids = [[200, 200]]\n",
        "batched_ids = [\n",
        "    [200, 200, 200],\n",
        "    [200, 200, tokenizer.pad_token_id],\n",
        "]\n",
        "\n",
        "print(model(torch.tensor(sequence1_ids)).logits)\n",
        "print(model(torch.tensor(sequence2_ids)).logits)\n",
        "print(model(torch.tensor(batched_ids)).logits)"
      ],
      "metadata": {
        "colab": {
          "base_uri": "https://localhost:8080/"
        },
        "id": "rmz5c8Q2fcyf",
        "outputId": "7be39fd1-5d92-4711-ec5a-db1cec0aed6d"
      },
      "execution_count": 38,
      "outputs": [
        {
          "output_type": "stream",
          "name": "stderr",
          "text": [
            "We strongly recommend passing in an `attention_mask` since your input_ids may be padded. See https://huggingface.co/docs/transformers/troubleshooting#incorrect-output-when-padding-tokens-arent-masked.\n"
          ]
        },
        {
          "output_type": "stream",
          "name": "stdout",
          "text": [
            "tensor([[ 1.5694, -1.3895]], grad_fn=<AddmmBackward0>)\n",
            "tensor([[ 0.5803, -0.4125]], grad_fn=<AddmmBackward0>)\n",
            "tensor([[ 1.5694, -1.3895],\n",
            "        [ 1.3374, -1.2163]], grad_fn=<AddmmBackward0>)\n"
          ]
        }
      ]
    },
    {
      "cell_type": "markdown",
      "source": [
        "If you observe closely, you will get something is wrong. ❌\n",
        "\n",
        "What is that???\n",
        "\n",
        "```\n",
        "model(torch.tensor(sequence2_ids)).logits --> [[ 0.5803, -0.4125]]\n",
        "model(torch.tensor(batched_ids)).logits --> here output of second --> [ 1.3374, -1.2163]\n",
        "\n",
        "```\n",
        "\n",
        "why in batch, logits is different in second sequence.\n",
        "\n",
        "Because, model considered padding value for processing. But that is wrong. right??\n",
        "\n",
        "This is because the key feature of Transformer models is attention layers that contextualize each token. These will take into account the padding tokens since they attend to all of the tokens of a sequence.\n",
        "\n",
        "Now, check carefully the recommendation above. ⬆\n"
      ],
      "metadata": {
        "id": "T9UI0EP3gJGw"
      }
    },
    {
      "cell_type": "markdown",
      "source": [
        "### **4. Attention masks**\n",
        "Attention masks are tensors with the exact same shape as the input IDs tensor, filled with 0s and 1s:\n",
        "\n",
        "* 1s indicate the corresponding tokens should be attended\n",
        "* 0s indicate the corresponding tokens should not be attended (i.e., they should be ignored by the attention layers of the model)."
      ],
      "metadata": {
        "id": "hZve5qeOmk97"
      }
    },
    {
      "cell_type": "code",
      "source": [
        "batched_ids = [\n",
        "    [200, 200, 200],\n",
        "    [200, 200, tokenizer.pad_token_id],\n",
        "]\n",
        "\n",
        "attention_mask = [\n",
        "    [1, 1, 1],\n",
        "    [1, 1, 0],\n",
        "]\n",
        "print(model(torch.tensor(sequence2_ids)).logits)\n",
        "outputs = model(torch.tensor(batched_ids), attention_mask=torch.tensor(attention_mask))\n",
        "print(outputs.logits)"
      ],
      "metadata": {
        "colab": {
          "base_uri": "https://localhost:8080/"
        },
        "id": "HzpxqPPagDF1",
        "outputId": "4e861e67-bbd3-486b-a6f8-f775a0b11840"
      },
      "execution_count": 40,
      "outputs": [
        {
          "output_type": "stream",
          "name": "stdout",
          "text": [
            "tensor([[ 0.5803, -0.4125]], grad_fn=<AddmmBackward0>)\n",
            "tensor([[ 1.5694, -1.3895],\n",
            "        [ 0.5803, -0.4125]], grad_fn=<AddmmBackward0>)\n"
          ]
        }
      ]
    },
    {
      "cell_type": "markdown",
      "source": [
        "Now we get the same logits for the second sentence in the batch.\n",
        "\n",
        "Notice how the last value of the second sequence is a padding ID, which is a 0 value in the attention mask."
      ],
      "metadata": {
        "id": "hx2EHQGDnG1n"
      }
    },
    {
      "cell_type": "markdown",
      "source": [
        "### **5. Longer sequences**\n",
        "\n",
        "With Transformer models, there is a limit to the lengths of the sequences we can pass the models. Most models handle sequences of up to 512 or 1024 tokens, and will crash when asked to process longer sequences. There are two solutions to this problem:\n",
        "\n",
        "* Use a model with a longer supported sequence length.\n",
        "* Truncate your sequences."
      ],
      "metadata": {
        "id": "THGOYNFZnxKe"
      }
    },
    {
      "cell_type": "markdown",
      "source": [
        "Models have different supported sequence lengths, and some specialize in handling very long sequences. Longformer is one example, and another is LED. If you’re working on a task that requires very long sequences, we recommend you take a look at those models.\n",
        "\n",
        "Otherwise, we recommend you truncate your sequences by specifying the max_sequence_length parameter:\n",
        "\n",
        "`sequence = sequence[:max_sequence_length]`"
      ],
      "metadata": {
        "id": "IUpRhquwpqUb"
      }
    },
    {
      "cell_type": "markdown",
      "source": [
        "## **Putting all Together**\n",
        "\n",
        "Transformers API can handle all of this for us with a high-level function that we’ll dive into here. When you call your tokenizer directly on the sentence, you get back inputs that are ready to pass through your model:"
      ],
      "metadata": {
        "id": "0JziPipBtZN7"
      }
    },
    {
      "cell_type": "code",
      "source": [
        "from transformers import AutoTokenizer\n",
        "\n",
        "checkpoint = \"distilbert-base-uncased-finetuned-sst-2-english\"\n",
        "tokenizer = AutoTokenizer.from_pretrained(checkpoint)\n",
        "\n",
        "sequence = \"I've been waiting for a HuggingFace course my whole life.\"\n",
        "\n",
        "model_inputs = tokenizer(sequence)\n",
        "print(model_inputs)"
      ],
      "metadata": {
        "colab": {
          "base_uri": "https://localhost:8080/"
        },
        "id": "oIPUaBtKtdyq",
        "outputId": "9928a758-30ad-419f-b2c8-fcea0612b5eb"
      },
      "execution_count": 43,
      "outputs": [
        {
          "output_type": "stream",
          "name": "stdout",
          "text": [
            "{'input_ids': [101, 1045, 1005, 2310, 2042, 3403, 2005, 1037, 17662, 12172, 2607, 2026, 2878, 2166, 1012, 102], 'attention_mask': [1, 1, 1, 1, 1, 1, 1, 1, 1, 1, 1, 1, 1, 1, 1, 1]}\n"
          ]
        }
      ]
    },
    {
      "cell_type": "markdown",
      "source": [
        "1.\tPadding Options:\n",
        "  ```\n",
        "\t•\tpadding=\"longest\" → pad to the longest sentence in the batch\n",
        "\t•\tpadding=\"max_length\" → pad to model’s or user-defined max_length\n",
        "\t•\tpadding=True → auto applies appropriate padding\n",
        "  ```\n",
        "2.\tTruncation Options:\n",
        "```\n",
        "\t•\ttruncation=True → truncate if sequence exceeds model’s max length\n",
        "\t•\tmax_length=... → specify custom maximum length\n",
        "```\n",
        "3.\tReturn as Tensors:\n",
        "```\n",
        "Add return_tensors=\"pt\" (PyTorch) / \"tf\" / \"np\" for immediate model\n",
        "  use\n",
        "```\n",
        "6.\tSpecial Tokens Handling:\n",
        "```\n",
        "\t•\tAutomatically adds required special tokens like [CLS] and [SEP] based on the model’s architecture.\n",
        "\t•\tThese are essential for models like BERT, which were pretrained with them.\n",
        "```"
      ],
      "metadata": {
        "id": "N0ZGHvZRwMdi"
      }
    },
    {
      "cell_type": "code",
      "source": [
        "import torch\n",
        "from transformers import AutoTokenizer, AutoModelForSequenceClassification\n",
        "\n",
        "checkpoint = \"distilbert-base-uncased-finetuned-sst-2-english\"\n",
        "tokenizer = AutoTokenizer.from_pretrained(checkpoint)\n",
        "model = AutoModelForSequenceClassification.from_pretrained(checkpoint)\n",
        "sequences = [\"I've been waiting for a HuggingFace course my whole life.\", \"So have I!\"]\n",
        "\n",
        "tokens = tokenizer(sequences, padding=True, truncation=True, return_tensors=\"pt\")\n",
        "output = model(**tokens)"
      ],
      "metadata": {
        "id": "nZD96tIgu4Z-"
      },
      "execution_count": 44,
      "outputs": []
    },
    {
      "cell_type": "code",
      "source": [
        "print(output)"
      ],
      "metadata": {
        "colab": {
          "base_uri": "https://localhost:8080/"
        },
        "id": "6vI96tq6woWL",
        "outputId": "89b3e81c-252e-4ba7-e3dd-8acb4593634f"
      },
      "execution_count": 45,
      "outputs": [
        {
          "output_type": "stream",
          "name": "stdout",
          "text": [
            "SequenceClassifierOutput(loss=None, logits=tensor([[-1.5607,  1.6123],\n",
            "        [-3.6183,  3.9137]], grad_fn=<AddmmBackward0>), hidden_states=None, attentions=None)\n"
          ]
        }
      ]
    }
  ]
}